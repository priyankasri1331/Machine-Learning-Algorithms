{
 "cells": [
  {
   "cell_type": "code",
   "execution_count": 4,
   "metadata": {
    "colab": {
     "base_uri": "https://localhost:8080/",
     "height": 34
    },
    "colab_type": "code",
    "id": "dOm4NORebq9L",
    "outputId": "e6663ef9-6a41-413a-c959-63ad9f2ef5e8"
   },
   "outputs": [
    {
     "name": "stderr",
     "output_type": "stream",
     "text": [
      "Using TensorFlow backend.\n"
     ]
    }
   ],
   "source": [
    "import warnings\n",
    "warnings.filterwarnings(\"ignore\")\n",
    "import matplotlib.pyplot as plt\n",
    "import numpy as np\n",
    "import pandas as pd\n",
    "from keras.utils import to_categorical\n",
    "import numpy as np\n",
    "from sklearn import tree\n",
    "from sklearn.tree import DecisionTreeRegressor\n",
    "import matplotlib.pyplot as plt\n",
    "from sklearn.model_selection import cross_val_score\n",
    "import math\n",
    "from sklearn.metrics import mean_squared_error\n",
    "import random\n",
    "from statistics import mean"
   ]
  },
  {
   "cell_type": "code",
   "execution_count": 0,
   "metadata": {
    "colab": {},
    "colab_type": "code",
    "id": "vOuL1srIXgbK"
   },
   "outputs": [],
   "source": [
    "# Code to read csv file into Colaboratory:\n",
    "!pip install -U -q PyDrive\n",
    "from pydrive.auth import GoogleAuth\n",
    "from pydrive.drive import GoogleDrive\n",
    "from google.colab import auth\n",
    "from oauth2client.client import GoogleCredentials\n",
    "# Authenticate and create the PyDrive client.\n",
    "auth.authenticate_user()\n",
    "gauth = GoogleAuth()\n",
    "gauth.credentials = GoogleCredentials.get_application_default()\n",
    "drive = GoogleDrive(gauth)"
   ]
  },
  {
   "cell_type": "code",
   "execution_count": 0,
   "metadata": {
    "colab": {},
    "colab_type": "code",
    "id": "nYXJ28vA5ot7"
   },
   "outputs": [],
   "source": [
    "train = 'https://drive.google.com/open?id=1gYebZPnV0DjdfWv4XRmOqTXaFhGacZPR'\n",
    "downloaded = drive.CreateFile({'id':'1gYebZPnV0DjdfWv4XRmOqTXaFhGacZPR'}) \n",
    "downloaded.GetContentFile('OnlineNewsPopularityTrain.csv')\n",
    "\n",
    "test = 'https://drive.google.com/open?id=13H5J3V2a2EDgLR_dWraeBP1Ud5R_o93k'\n",
    "downloaded = drive.CreateFile({'id':'13H5J3V2a2EDgLR_dWraeBP1Ud5R_o93k'}) \n",
    "downloaded.GetContentFile('OnlineNewsPopularityTest.csv')"
   ]
  },
  {
   "cell_type": "code",
   "execution_count": 7,
   "metadata": {
    "colab": {
     "base_uri": "https://localhost:8080/",
     "height": 260
    },
    "colab_type": "code",
    "id": "TfRKIelr6DUk",
    "outputId": "780c1b67-85da-43ff-bc59-3f1e076e995f"
   },
   "outputs": [
    {
     "data": {
      "text/plain": [
       "<bound method NDFrame.head of                                                      url  ...   shares\n",
       "0      http://mashable.com/2013/01/07/entrepreneur-tr...  ...     3100\n",
       "1      http://mashable.com/2013/01/07/facebook-sick-app/  ...     5700\n",
       "2      http://mashable.com/2013/01/07/felt-audio-puls...  ...    17100\n",
       "3           http://mashable.com/2013/01/07/ford-glympse/  ...     2800\n",
       "4       http://mashable.com/2013/01/07/ftc-google-leaks/  ...      598\n",
       "...                                                  ...  ...      ...\n",
       "38417  http://mashable.com/2014/12/27/samsung-app-aut...  ...     1800\n",
       "38418  http://mashable.com/2014/12/27/seth-rogen-jame...  ...     1900\n",
       "38419  http://mashable.com/2014/12/27/son-pays-off-mo...  ...     1900\n",
       "38420     http://mashable.com/2014/12/27/ukraine-blasts/  ...     1100\n",
       "38421  http://mashable.com/2014/12/27/youtube-channel...  ...     1300\n",
       "\n",
       "[38422 rows x 61 columns]>"
      ]
     },
     "execution_count": 7,
     "metadata": {
      "tags": []
     },
     "output_type": "execute_result"
    }
   ],
   "source": [
    "df_train = pd.read_csv('OnlineNewsPopularityTrain.csv')\n",
    "df_test = pd.read_csv('OnlineNewsPopularityTest.csv')\n",
    "df_train.head"
   ]
  },
  {
   "cell_type": "code",
   "execution_count": 0,
   "metadata": {
    "colab": {},
    "colab_type": "code",
    "id": "CdngTnR-73PD"
   },
   "outputs": [],
   "source": [
    "df_X_train = df_train.drop(['url'],axis = 1)\n",
    "df_X_train = df_X_train.drop([' shares'],axis = 1)\n",
    "df_Y_train = df_train[[' shares']]\n",
    "df_X_test = df_test.drop(['url'],axis = 1)\n",
    "df_X_test = df_X_test.drop([' shares'],axis = 1)\n",
    "df_Y_test = df_test[[' shares']]\n",
    "\n",
    "# Convert to numpy\n",
    "X_train = df_X_train.to_numpy()\n",
    "Y_train = df_Y_train.to_numpy()\n",
    "print(X_train.shape)\n",
    "print(Y_train.shape)\n",
    "X_test = df_X_test.to_numpy()\n",
    "Y_test = df_Y_test.to_numpy()\n",
    "print(X_test.shape)\n",
    "print(Y_test.shape)"
   ]
  },
  {
   "cell_type": "markdown",
   "metadata": {
    "colab_type": "text",
    "id": "-wgkM4NjTQVE"
   },
   "source": [
    "### a - Decision tree regression"
   ]
  },
  {
   "cell_type": "code",
   "execution_count": 9,
   "metadata": {
    "colab": {
     "base_uri": "https://localhost:8080/",
     "height": 34
    },
    "colab_type": "code",
    "id": "fU4XP2RTWAty",
    "outputId": "94b0fc6c-1df9-487a-f56e-92aef4f4c058"
   },
   "outputs": [
    {
     "data": {
      "text/plain": [
       "38422"
      ]
     },
     "execution_count": 9,
     "metadata": {
      "tags": []
     },
     "output_type": "execute_result"
    }
   ],
   "source": [
    "int(len(X_train)/5)*4\n",
    "len(X_train)"
   ]
  },
  {
   "cell_type": "code",
   "execution_count": 10,
   "metadata": {
    "colab": {
     "base_uri": "https://localhost:8080/",
     "height": 34
    },
    "colab_type": "code",
    "id": "hfVn1R7ETtUK",
    "outputId": "594d33ab-927b-4b1c-85a6-1729ed1b16f3"
   },
   "outputs": [
    {
     "data": {
      "text/plain": [
       "array([    0.,  7684., 15368., 23052., 30736., 38421.])"
      ]
     },
     "execution_count": 10,
     "metadata": {
      "tags": []
     },
     "output_type": "execute_result"
    }
   ],
   "source": [
    "def cross_val_lengths_fun(X):\n",
    "  cross_val_lengths = np.linspace(0,int(len(X)/5)*4,5)\n",
    "  cross_val_lengths = np.append(cross_val_lengths,len(X)-1)\n",
    "  return cross_val_lengths\n",
    "\n",
    "cross_val_lengths = cross_val_lengths_fun(X_train)\n",
    "cross_val_lengths"
   ]
  },
  {
   "cell_type": "code",
   "execution_count": 11,
   "metadata": {
    "colab": {
     "base_uri": "https://localhost:8080/",
     "height": 34
    },
    "colab_type": "code",
    "id": "CKZ118FoGWDl",
    "outputId": "db182914-43c9-4fad-e861-65dfcaee6745"
   },
   "outputs": [
    {
     "data": {
      "text/plain": [
       "1.7320508075688774"
      ]
     },
     "execution_count": 11,
     "metadata": {
      "tags": []
     },
     "output_type": "execute_result"
    }
   ],
   "source": [
    "import math\n",
    "X = np.array([1,2,3])\n",
    "Y = np.array([4,5,6])\n",
    "(np.sqrt(((X-Y)**2).sum()))/len(X)"
   ]
  },
  {
   "cell_type": "code",
   "execution_count": 0,
   "metadata": {
    "colab": {},
    "colab_type": "code",
    "id": "wW8W1qt5Vcdc"
   },
   "outputs": [],
   "source": [
    "def rss(regr):\n",
    "  ret_list = []\n",
    "  for i in range(len(cross_val_lengths)-1):\n",
    "    x_arr_start_pos = i\n",
    "    x_arr_stop_pos = i+1\n",
    "    #regr.fit(X_train_cv,Y_train_cv)\n",
    "    #print(len(cross_val_lengths))\n",
    "    x_arr_start = int(cross_val_lengths[x_arr_start_pos])\n",
    "    x_arr_stop = int(cross_val_lengths[x_arr_stop_pos])\n",
    "    if x_arr_start == 0:\n",
    "      X_train_cv = (X_train[x_arr_stop+1:int(cross_val_lengths[-1])])\n",
    "      Y_train_cv = (Y_train[x_arr_stop+1:int(cross_val_lengths[-1])])\n",
    "      #print(x_arr_stop+1,int(cross_val_lengths[-1]))\n",
    "    elif x_arr_start == cross_val_lengths[-2]:\n",
    "      X_train_cv = (X_train[0:x_arr_start])\n",
    "      Y_train_cv = (Y_train[0:x_arr_start])\n",
    "      #print(0,x_arr_start)\n",
    "    else:\n",
    "      X_train_cv = np.concatenate((X_train[0:x_arr_start],X_train[x_arr_stop+1:int(cross_val_lengths[-1])]))\n",
    "      Y_train_cv = np.concatenate((Y_train[0:x_arr_start],Y_train[x_arr_stop+1:int(cross_val_lengths[-1])]))\n",
    "      #print(0,x_arr_start,x_arr_stop+1,int(cross_val_lengths[-1]))\n",
    "    regr.fit(X_train_cv, Y_train_cv)\n",
    "    Y_pred = regr.predict(X_train[x_arr_start:x_arr_stop])\n",
    "    #print(Y_pred,x_arr_start,x_arr_stop)\n",
    "    Y_act = Y_train[x_arr_start:x_arr_stop]\n",
    "    #print(Y_act)\n",
    "    #y_sub_sq = (np.sqrt(((Y_pred - Y_act)**2).sum()))/len(Y_pred)\n",
    "    #y_sub_sq = np.sqrt(np.sum((Y_act - Y_pred)**2))/Y_pred.shape[0]\n",
    "    y_sub_sq = mean_squared_error(Y_pred, Y_act, squared=False)\n",
    "    ret_list.append(y_sub_sq)\n",
    "\n",
    "  return ret_list\n",
    "  \n",
    "  '''lst = []\n",
    "  for i in range(x_arr_start+1,x_arr_stop+1):\n",
    "    lst.append(i)\n",
    "  print(lst[0],lst[-1])'''\n"
   ]
  },
  {
   "cell_type": "code",
   "execution_count": 0,
   "metadata": {
    "colab": {},
    "colab_type": "code",
    "id": "xj0ZCB4jVdu_"
   },
   "outputs": [],
   "source": [
    "depths = np.linspace(1, 10, 10)\n",
    "#depths = [20,30]\n",
    "average_list = []\n",
    "for i in depths:\n",
    "  regr = DecisionTreeRegressor(max_depth=i,min_samples_leaf=2000,criterion='mse',splitter='best',random_state=50)\n",
    "  #regr = DecisionTreeRegressor(min_samples_leaf=2000)\n",
    "  average_list.append(rss(regr))"
   ]
  },
  {
   "cell_type": "code",
   "execution_count": 0,
   "metadata": {
    "colab": {},
    "colab_type": "code",
    "id": "N-gtrlhiHR-R"
   },
   "outputs": [],
   "source": [
    "for i,j in enumerate(average_list):\n",
    "  print(\"Depth \", i+1, \"-\",j)"
   ]
  },
  {
   "cell_type": "code",
   "execution_count": 15,
   "metadata": {
    "colab": {
     "base_uri": "https://localhost:8080/",
     "height": 452
    },
    "colab_type": "code",
    "id": "nFy3tu8EBVM7",
    "outputId": "43034e9d-b4a8-4009-8ab3-37b6793cbeba"
   },
   "outputs": [
    {
     "data": {
      "text/plain": [
       "[11171.955924968432,\n",
       " 11151.987585450759,\n",
       " 11138.238456072668,\n",
       " 11138.477733833593,\n",
       " 11138.576757349028,\n",
       " 11137.792479632644,\n",
       " 11137.792479632644,\n",
       " 11137.792479632644,\n",
       " 11137.792479632644,\n",
       " 11137.792479632644]"
      ]
     },
     "execution_count": 15,
     "metadata": {
      "tags": []
     },
     "output_type": "execute_result"
    },
    {
     "data": {
      "image/png": "[encoded data removed]",
      "text/plain": [
       "<Figure size 432x288 with 1 Axes>"
      ]
     },
     "metadata": {
      "tags": []
     },
     "output_type": "display_data"
    }
   ],
   "source": [
    "avg_list = []\n",
    "for i in average_list:\n",
    "  avg_list.append(np.average(i))\n",
    "plt.xlabel('depths')\n",
    "plt.ylabel('average error')\n",
    "plt.plot(depths,avg_list)\n",
    "avg_list"
   ]
  },
  {
   "cell_type": "code",
   "execution_count": 16,
   "metadata": {
    "colab": {
     "base_uri": "https://localhost:8080/",
     "height": 34
    },
    "colab_type": "code",
    "id": "nwYhOUIEHUvE",
    "outputId": "9d3f93ff-9b50-46e2-cf5e-fef5fe952742"
   },
   "outputs": [
    {
     "data": {
      "text/plain": [
       "8329.707163036415"
      ]
     },
     "execution_count": 16,
     "metadata": {
      "tags": []
     },
     "output_type": "execute_result"
    }
   ],
   "source": [
    "regr_test = DecisionTreeRegressor(max_depth=6,min_samples_leaf=2000,criterion='mse',splitter='best',random_state=50)\n",
    "regr_test.fit(X_train,Y_train)\n",
    "Y_pred_test = regr_test.predict(X_test)\n",
    "y_sub_sq_test = mean_squared_error(Y_pred_test, Y_test, squared=False)\n",
    "y_sub_sq_test"
   ]
  },
  {
   "cell_type": "markdown",
   "metadata": {
    "colab_type": "text",
    "id": "9-PAvw4rmrEg"
   },
   "source": [
    "### b Random forest regression"
   ]
  },
  {
   "cell_type": "code",
   "execution_count": 0,
   "metadata": {
    "colab": {},
    "colab_type": "code",
    "id": "9cLAZQWrEeVh"
   },
   "outputs": [],
   "source": [
    "def random_features_ret(X):\n",
    "  num_total_features = len(X[0])-1\n",
    "  num_features_chosen = int(math.sqrt(num_total_features))\n",
    "  #print(num_total_features,num_features_chosen)\n",
    "\n",
    "  # List of random integers chosen from a range\n",
    "  features_list = random.sample(range(0, num_total_features), num_features_chosen)\n",
    "  #print(features_list)\n",
    "  col_arr_list = []\n",
    "  for i in features_list:\n",
    "    col_arr_list.append(np.array( [ X[:,i] ] ).T)\n",
    "\n",
    "  X_rand_f = np.hstack(col_arr_list)\n",
    "  #print(X_train_rand_f.shape)\n",
    "  return (X_rand_f,features_list)"
   ]
  },
  {
   "cell_type": "code",
   "execution_count": 0,
   "metadata": {
    "colab": {},
    "colab_type": "code",
    "id": "yTRkFyW3onJD"
   },
   "outputs": [],
   "source": [
    "#random_features_ret(X_train,Y_train)"
   ]
  },
  {
   "cell_type": "code",
   "execution_count": 0,
   "metadata": {
    "colab": {},
    "colab_type": "code",
    "id": "DVU2zr9FuoSp"
   },
   "outputs": [],
   "source": [
    "def bagging(X_bag,Y_bag):\n",
    "  num_samples = int(0.2*(X_bag.shape[0]))\n",
    "  samples_list = random.sample(range(0, X_bag.shape[0]), num_samples)\n",
    "  XY_train =  np.hstack((X_bag,Y_bag))\n",
    "  #XY_train = XY_train.to_numpy()\n",
    "\n",
    "  row_arr_list = []\n",
    "  for i in samples_list:\n",
    "    row_arr_list.append(np.array([XY_train[i,:]]))\n",
    "  print(row_arr_list)\n",
    "  x_rand_s = np.vstack(row_arr_list)\n",
    "\n",
    "  return x_rand_s"
   ]
  },
  {
   "cell_type": "code",
   "execution_count": 0,
   "metadata": {
    "colab": {},
    "colab_type": "code",
    "id": "7VoOS6B-1-ct"
   },
   "outputs": [],
   "source": [
    "bagging(X_train,Y_train)"
   ]
  },
  {
   "cell_type": "code",
   "execution_count": 0,
   "metadata": {
    "colab": {},
    "colab_type": "code",
    "id": "t3d5jZUfQmrl"
   },
   "outputs": [],
   "source": [
    "def random_forest(tree_num,X_rand_forest,Y_rand_forest):\n",
    "  tree_list = []\n",
    "  for i in range(tree_num):\n",
    "      x_rand_s = bagging(X_rand_forest,Y_rand_forest)\n",
    "      num_columns = x_rand_s.shape[1]\n",
    "      y_rand_s = x_rand_s[:,num_columns - 1]\n",
    "      x_rand_s = x_rand_s[:,0:-1]\n",
    "      new_X,features = random_features_ret(x_rand_s)\n",
    "      tree_list.append([new_X,y_rand_s,features])\n",
    "\n",
    "  return tree_list"
   ]
  },
  {
   "cell_type": "code",
   "execution_count": 0,
   "metadata": {
    "colab": {},
    "colab_type": "code",
    "id": "Q4kD8UQBSkN8"
   },
   "outputs": [],
   "source": [
    "s = random_forest(2,X_train,Y_train)"
   ]
  },
  {
   "cell_type": "code",
   "execution_count": 23,
   "metadata": {
    "colab": {
     "base_uri": "https://localhost:8080/",
     "height": 34
    },
    "colab_type": "code",
    "id": "Od3INXXMe6Wh",
    "outputId": "8d55e3e4-00f0-4efa-d9e6-d24b40d7561a"
   },
   "outputs": [
    {
     "data": {
      "text/plain": [
       "(7684, 7)"
      ]
     },
     "execution_count": 23,
     "metadata": {
      "tags": []
     },
     "output_type": "execute_result"
    }
   ],
   "source": [
    "s[0][0].shape"
   ]
  },
  {
   "cell_type": "code",
   "execution_count": 0,
   "metadata": {
    "colab": {},
    "colab_type": "code",
    "id": "H-7cWaBpSoaF"
   },
   "outputs": [],
   "source": [
    "def random_cross_val(depth,tree_num):\n",
    "  ret_list = []\n",
    "  features_list = []\n",
    "  new_X_list = []\n",
    "  new_Y_list = []\n",
    "  for i in range(len(cross_val_lengths)-1):\n",
    "    x_arr_start_pos = i\n",
    "    x_arr_stop_pos = i+1\n",
    "\n",
    "    x_arr_start = int(cross_val_lengths[x_arr_start_pos])\n",
    "    x_arr_stop = int(cross_val_lengths[x_arr_stop_pos])\n",
    "    if x_arr_start == 0:\n",
    "      X_train_cv = (X_train[x_arr_stop+1:int(cross_val_lengths[-1])])\n",
    "      Y_train_cv = (Y_train[x_arr_stop+1:int(cross_val_lengths[-1])])\n",
    "\n",
    "    elif x_arr_start == cross_val_lengths[-2]:\n",
    "      X_train_cv = (X_train[0:x_arr_start])\n",
    "      Y_train_cv = (Y_train[0:x_arr_start])\n",
    "\n",
    "    else:\n",
    "      X_train_cv = np.concatenate((X_train[0:x_arr_start],X_train[x_arr_stop+1:int(cross_val_lengths[-1])]))\n",
    "      Y_train_cv = np.concatenate((Y_train[0:x_arr_start],Y_train[x_arr_stop+1:int(cross_val_lengths[-1])]))\n",
    "    \n",
    "    tree_avg_list = []\n",
    "    feature_list = []\n",
    "    new_X_lists = []\n",
    "    new_Y_lists = []\n",
    "    #create random forest\n",
    "    tree_list = random_forest(tree_num,X_train_cv,Y_train_cv)\n",
    "\n",
    "    for new_X,y_rand_s,features in tree_list:\n",
    "      regr_rand = DecisionTreeRegressor(max_depth=depth,min_samples_leaf=2000,criterion='mse',splitter='best',random_state=50)\n",
    "      regr_rand.fit(new_X, y_rand_s)\n",
    "      Y_pred = regr_rand.predict(new_X)\n",
    "      y_sub_sq = mean_squared_error(Y_pred, y_rand_s, squared=False)\n",
    "      tree_avg_list.append(y_sub_sq)\n",
    "      features_list.append(features)\n",
    "      #new_X_lists.append(new_X)\n",
    "      #new_Y_lists.append(y_rand_s)\n",
    "\n",
    "    features_list.append(features_list[0])\n",
    "    #new_X_list.append(new_X_list[0])\n",
    "    #new_Y_list.append(new_Y_list[0])\n",
    "    ret_list.append(mean(tree_avg_list))\n",
    "\n",
    "  return [ret_list,features_list]"
   ]
  },
  {
   "cell_type": "code",
   "execution_count": 0,
   "metadata": {
    "colab": {},
    "colab_type": "code",
    "id": "Jri8m2QEehts"
   },
   "outputs": [],
   "source": [
    "depth_rand = [2,3,6,7]\n",
    "tree_num_list = [2,3,4,5]\n",
    "avg_list_rand = []\n",
    "features_list_rand  = []\n",
    "for i in depth_rand:\n",
    "  for j in tree_num_list:\n",
    "    lst,features_list = random_cross_val(i,j)\n",
    "    avg_list_rand.append((i,j,lst))\n",
    "    features_list_rand.append(features_list)\n",
    "avg_list_rand"
   ]
  },
  {
   "cell_type": "code",
   "execution_count": 0,
   "metadata": {
    "colab": {},
    "colab_type": "code",
    "id": "OUey7zrLwzN-"
   },
   "outputs": [],
   "source": [
    "depth_rand = [2,3,6,7]\n",
    "tree_num_list = [2,3,4,5]\n",
    "new_list = []\n",
    "for i,j in enumerate(avg_list_rand):\n",
    "  print(j)\n",
    "  new_list.append(i)\n",
    "new_list = np.asarray(new_list)"
   ]
  },
  {
   "cell_type": "code",
   "execution_count": 0,
   "metadata": {
    "colab": {},
    "colab_type": "code",
    "id": "_y2Omlv9kHfj"
   },
   "outputs": [],
   "source": [
    "new_list = []\n",
    "for i in avg_list_rand:\n",
    "  new_list.append(np.average(i[2]))\n",
    "new_list = np.asarray(new_list)\n",
    "new_list.resize((len(depth_rand),len(tree_num_list)))\n",
    "new_list"
   ]
  },
  {
   "cell_type": "code",
   "execution_count": 68,
   "metadata": {
    "colab": {
     "base_uri": "https://localhost:8080/",
     "height": 300
    },
    "colab_type": "code",
    "id": "0F0rFQclx94Q",
    "outputId": "7f4d90d4-dc4d-4f1c-a086-e746b49505c5"
   },
   "outputs": [
    {
     "data": {
      "text/plain": [
       "<matplotlib.image.AxesImage at 0x7f50514e79b0>"
      ]
     },
     "execution_count": 68,
     "metadata": {
      "tags": []
     },
     "output_type": "execute_result"
    },
    {
     "data": {
      "image/png": "[encoded data removed]",
      "text/plain": [
       "<Figure size 432x288 with 1 Axes>"
      ]
     },
     "metadata": {
      "tags": []
     },
     "output_type": "display_data"
    }
   ],
   "source": [
    "'''plt.xticks([2,3,6,7])\n",
    "plt.yticks([2,3,4,5])'''\n",
    "plt.xlabel('depth')\n",
    "plt.ylabel('num_trees')\n",
    "plt.imshow(new_list, cmap = 'hot')"
   ]
  },
  {
   "cell_type": "code",
   "execution_count": 0,
   "metadata": {
    "colab": {},
    "colab_type": "code",
    "id": "iyzO1Z4YphZt"
   },
   "outputs": [],
   "source": [
    "#from the above results, optimal depth is 2 and number of trees are 2\n",
    "#feature list that gave optimal value\n",
    "features_list_rand_new = np.asarray(features_list_rand)\n",
    "features_list_rand_new.resize((len(depth_rand),len(tree_num_list)))"
   ]
  },
  {
   "cell_type": "code",
   "execution_count": 0,
   "metadata": {
    "colab": {},
    "colab_type": "code",
    "id": "1bRBxc3ix6-r"
   },
   "outputs": [],
   "source": [
    "#Random forest for test data\n",
    "optimal_depth = 2\n",
    "optimal_tree_num = 2\n",
    "optimal_features_list = []\n",
    "for i in range(optimal_tree_num):\n",
    "  optimal_features_list.append(features_list_rand_new[0][1][i])\n",
    "optimal_features_list"
   ]
  },
  {
   "cell_type": "code",
   "execution_count": 0,
   "metadata": {
    "colab": {},
    "colab_type": "code",
    "id": "KJwuUwHNIA8S"
   },
   "outputs": [],
   "source": [
    "#tree1\n",
    "col_arr_list_tree1 = []\n",
    "col_arr_list_tree1_train = []\n",
    "for i in optimal_features_list[0]:\n",
    "  col_arr_list_tree1.append(np.array( [ X_test[:,i] ] ).T)\n",
    "  col_arr_list_tree1_train.append(np.array( [ X_train[:,i] ] ).T)\n",
    "  X_test_tree1 = np.hstack(col_arr_list_tree1)\n",
    "  X_train_tree1 = np.hstack(col_arr_list_tree1_train)\n",
    "\n",
    "#tree2\n",
    "col_arr_list_tree2 = []\n",
    "col_arr_list_tree2_train = []\n",
    "for i in optimal_features_list[1]:\n",
    "  col_arr_list_tree2.append(np.array( [ X_test[:,i] ] ).T)\n",
    "  col_arr_list_tree2_train.append(np.array( [ X_train[:,i] ] ).T)\n",
    "  X_test_tree2 = np.hstack(col_arr_list_tree2)\n",
    "  X_train_tree2 = np.hstack(col_arr_list_tree2_train)\n",
    "\n",
    "\n",
    "optimal_tree_list_test = []\n",
    "optimal_tree_list_test.append(X_test_tree1)\n",
    "optimal_tree_list_test.append(X_test_tree2)\n",
    "optimal_tree_list_train = []\n",
    "optimal_tree_list_train.append(X_train_tree1)\n",
    "optimal_tree_list_train.append(X_train_tree2)"
   ]
  },
  {
   "cell_type": "code",
   "execution_count": 72,
   "metadata": {
    "colab": {
     "base_uri": "https://localhost:8080/",
     "height": 34
    },
    "colab_type": "code",
    "id": "3cATDceiJW01",
    "outputId": "07ce208a-dee9-41e9-e5bb-055f82cd4572"
   },
   "outputs": [
    {
     "data": {
      "text/plain": [
       "8361.775529552255"
      ]
     },
     "execution_count": 72,
     "metadata": {
      "tags": []
     },
     "output_type": "execute_result"
    }
   ],
   "source": [
    "#Random tree value on test set\n",
    "tree_avg_list_test = []\n",
    "\n",
    "for i,new_X_test in enumerate(optimal_tree_list_test):\n",
    "  regr_rand = DecisionTreeRegressor(max_depth=3,min_samples_leaf=2000,criterion='mse',splitter='best',random_state=50)\n",
    "  regr_rand.fit(optimal_tree_list_train[i],Y_train)\n",
    "  Y_pred_test_r = regr_rand.predict(new_X_test)\n",
    "  y_sub_sq_r = mean_squared_error(Y_pred_test_r, Y_test, squared=False)\n",
    "  tree_avg_list_test.append(y_sub_sq_r)\n",
    "mean(tree_avg_list_test)"
   ]
  },
  {
   "cell_type": "markdown",
   "metadata": {
    "colab_type": "text",
    "id": "9Mty4yt_ZzXz"
   },
   "source": [
    "### c Feature Exploration"
   ]
  },
  {
   "cell_type": "code",
   "execution_count": 45,
   "metadata": {
    "colab": {
     "base_uri": "https://localhost:8080/",
     "height": 121
    },
    "colab_type": "code",
    "id": "PDy3bAkL9o10",
    "outputId": "d8b88efb-3198-4b12-a293-1f43f93dfc81"
   },
   "outputs": [
    {
     "data": {
      "text/plain": [
       "DecisionTreeRegressor(ccp_alpha=0.0, criterion='mse', max_depth=6,\n",
       "                      max_features=None, max_leaf_nodes=None,\n",
       "                      min_impurity_decrease=0.0, min_impurity_split=None,\n",
       "                      min_samples_leaf=2000, min_samples_split=2,\n",
       "                      min_weight_fraction_leaf=0.0, presort='deprecated',\n",
       "                      random_state=50, splitter='best')"
      ]
     },
     "execution_count": 45,
     "metadata": {
      "tags": []
     },
     "output_type": "execute_result"
    }
   ],
   "source": [
    "regr_q3 = DecisionTreeRegressor(max_depth=6,min_samples_leaf=2000,criterion='mse',splitter='best',random_state=50)\n",
    "regr_q3.fit(X_train,Y_train)"
   ]
  },
  {
   "cell_type": "code",
   "execution_count": 0,
   "metadata": {
    "colab": {},
    "colab_type": "code",
    "id": "COtH1aCxZxeH"
   },
   "outputs": [],
   "source": [
    "Feat_names = list(df_train.columns.values)\n",
    "Feat_names.remove('url')\n",
    "Feat_names.remove(' shares')\n",
    "dotfile = open(\"fin.dot\",'w')\n",
    "tree.export_graphviz(regr_q3,out_file=dotfile,feature_names=Feat_names)\n",
    "dotfile.close()"
   ]
  },
  {
   "cell_type": "markdown",
   "metadata": {
    "colab_type": "text",
    "id": "pQyU_LUcr3rG"
   },
   "source": [
    "### d NLP feature Extraction"
   ]
  },
  {
   "cell_type": "code",
   "execution_count": 47,
   "metadata": {
    "colab": {
     "base_uri": "https://localhost:8080/",
     "height": 225
    },
    "colab_type": "code",
    "id": "nzQBDUbDswLW",
    "outputId": "7d540268-f586-486e-a509-163f49ffe510"
   },
   "outputs": [
    {
     "data": {
      "text/plain": [
       "0                   [amazon, instant, video, browser]\n",
       "1                    [ap, samsung, sponsored, tweets]\n",
       "2                [apple, 40, billion, app, downloads]\n",
       "3                       [astronaut, notre, dame, bcs]\n",
       "4                               [att, u, verse, apps]\n",
       "                            ...                      \n",
       "1217                             [water, ice, clouds]\n",
       "1218                          [workplace, technology]\n",
       "1219                      [yahoo, news, digest, ipad]\n",
       "1220                          [youth, vote, scotland]\n",
       "1221    [adrian, peterson, worst, sports, week, ever]\n",
       "Name: 6, Length: 1222, dtype: object"
      ]
     },
     "execution_count": 47,
     "metadata": {
      "tags": []
     },
     "output_type": "execute_result"
    }
   ],
   "source": [
    "split_data = df_train['url'].str.split(\"/\",expand = True)\n",
    "#split_data = split_data\n",
    "urls_train = split_data[6].str.split(\"-\")\n",
    "urls_train\n",
    "split_data_test = df_test['url'].str.split(\"/\",expand = True)\n",
    "urls_test = split_data_test[6].str.split(\"-\")\n",
    "urls_test"
   ]
  },
  {
   "cell_type": "code",
   "execution_count": 0,
   "metadata": {
    "colab": {},
    "colab_type": "code",
    "id": "uloF7OIV9ISZ"
   },
   "outputs": [],
   "source": [
    "#initialization\n",
    "from gensim.test.utils import common_texts, get_tmpfile\n",
    "from gensim.models import Word2Vec\n",
    "\n",
    "vec_size = 100\n",
    "for i in urls_train:\n",
    "  common_texts.append(i)\n",
    "for j in urls_test:\n",
    "  common_texts.append(j)\n",
    "\n",
    "path = get_tmpfile(\"word2vec.model\")\n",
    "model = Word2Vec(common_texts, size=vec_size, window=5, min_count=1, workers=4)\n",
    "model.save(\"word2vec.model\")"
   ]
  },
  {
   "cell_type": "code",
   "execution_count": 0,
   "metadata": {
    "colab": {},
    "colab_type": "code",
    "id": "SpzByTsI-NiB"
   },
   "outputs": [],
   "source": [
    "#Averaging each train data point to get vector of size 10\n",
    "fin_vec = []\n",
    "for i in urls_train:\n",
    "  v_avg_list = []\n",
    "  for j in i:\n",
    "    v = model.wv[j]\n",
    "    v_avg_list.append(v)\n",
    "  s = np.asarray(v_avg_list)\n",
    "  v_avg_list = []\n",
    "  for k in range(vec_size):\n",
    "    v_avg_list.append(mean(s[:,k]))\n",
    "  fin_vec.append(v_avg_list)\n",
    "fin_vec = np.asarray(fin_vec)"
   ]
  },
  {
   "cell_type": "code",
   "execution_count": 50,
   "metadata": {
    "colab": {
     "base_uri": "https://localhost:8080/",
     "height": 34
    },
    "colab_type": "code",
    "id": "0AR0e3xUP2Be",
    "outputId": "4d400e93-7c32-49d9-9e75-a32ed8ee363a"
   },
   "outputs": [
    {
     "data": {
      "text/plain": [
       "(38422, 100)"
      ]
     },
     "execution_count": 50,
     "metadata": {
      "tags": []
     },
     "output_type": "execute_result"
    }
   ],
   "source": [
    "fin_vec.shape"
   ]
  },
  {
   "cell_type": "code",
   "execution_count": 0,
   "metadata": {
    "colab": {},
    "colab_type": "code",
    "id": "kNkrCJRlCvEy"
   },
   "outputs": [],
   "source": [
    "#Averaging each test data point to get vector of size 10\n",
    "fin_vec_test = []\n",
    "for i in urls_test:\n",
    "  v_avg_list_test = []\n",
    "  for j in i:\n",
    "    v = model.wv[j]\n",
    "    v_avg_list_test.append(v)\n",
    "  s = np.asarray(v_avg_list_test)\n",
    "  v_avg_list_test = []\n",
    "  for k in range(vec_size):\n",
    "    v_avg_list_test.append(mean(s[:,k]))\n",
    "  fin_vec_test.append(v_avg_list_test)\n",
    "fin_vec_test = np.asarray(fin_vec_test)"
   ]
  },
  {
   "cell_type": "code",
   "execution_count": 52,
   "metadata": {
    "colab": {
     "base_uri": "https://localhost:8080/",
     "height": 34
    },
    "colab_type": "code",
    "id": "VOR_Axd9IV5P",
    "outputId": "38fdfaa8-ea1d-4620-90c1-97fe281dfc45"
   },
   "outputs": [
    {
     "data": {
      "text/plain": [
       "(1222, 100)"
      ]
     },
     "execution_count": 52,
     "metadata": {
      "tags": []
     },
     "output_type": "execute_result"
    }
   ],
   "source": [
    "fin_vec_test.shape"
   ]
  },
  {
   "cell_type": "code",
   "execution_count": 53,
   "metadata": {
    "colab": {
     "base_uri": "https://localhost:8080/",
     "height": 34
    },
    "colab_type": "code",
    "id": "4kWOYtVTJPf0",
    "outputId": "ff08d230-e861-470b-952a-9f2318317345"
   },
   "outputs": [
    {
     "data": {
      "text/plain": [
       "(38422, 159)"
      ]
     },
     "execution_count": 53,
     "metadata": {
      "tags": []
     },
     "output_type": "execute_result"
    }
   ],
   "source": [
    "X_train_with_url = np.hstack((X_train,fin_vec))\n",
    "X_train_with_url.shape"
   ]
  },
  {
   "cell_type": "code",
   "execution_count": 54,
   "metadata": {
    "colab": {
     "base_uri": "https://localhost:8080/",
     "height": 34
    },
    "colab_type": "code",
    "id": "pqDlGHpxKVfV",
    "outputId": "e53cbb0a-272d-4102-8e38-2218e35048c5"
   },
   "outputs": [
    {
     "data": {
      "text/plain": [
       "(1222, 159)"
      ]
     },
     "execution_count": 54,
     "metadata": {
      "tags": []
     },
     "output_type": "execute_result"
    }
   ],
   "source": [
    "X_test_with_url = np.hstack((X_test,fin_vec_test))\n",
    "X_test_with_url.shape"
   ]
  },
  {
   "cell_type": "code",
   "execution_count": 55,
   "metadata": {
    "colab": {
     "base_uri": "https://localhost:8080/",
     "height": 34
    },
    "colab_type": "code",
    "id": "cFELuYIiOYJz",
    "outputId": "a034ee6e-db1b-4eb5-beec-42cdc385de6b"
   },
   "outputs": [
    {
     "data": {
      "text/plain": [
       "8329.707163036415"
      ]
     },
     "execution_count": 55,
     "metadata": {
      "tags": []
     },
     "output_type": "execute_result"
    }
   ],
   "source": [
    "regr_q4 = DecisionTreeRegressor(max_depth=6,min_samples_leaf=2000,criterion='mse',splitter='best',random_state=50)\n",
    "regr_q4.fit(X_train,Y_train)\n",
    "Y_pred_test = regr_q4.predict(X_test)\n",
    "y_sub_sq_test = mean_squared_error(Y_pred_test, Y_test, squared=False)\n",
    "y_sub_sq_test"
   ]
  },
  {
   "cell_type": "code",
   "execution_count": 56,
   "metadata": {
    "colab": {
     "base_uri": "https://localhost:8080/",
     "height": 34
    },
    "colab_type": "code",
    "id": "lFtX7nJ3Vyfm",
    "outputId": "169f4e73-5c97-484f-a3e4-51f279eb3743"
   },
   "outputs": [
    {
     "data": {
      "text/plain": [
       "(38422, 109)"
      ]
     },
     "execution_count": 56,
     "metadata": {
      "tags": []
     },
     "output_type": "execute_result"
    }
   ],
   "source": [
    "#Taking only important features train set\n",
    "X_train_q4 = np.vstack((X_train[:,26],X_train[:,29],X_train[:,28],X_train[:,25],X_train[:,0],X_train[:,27],X_train[:,39],X_train[:,16],X_train[:,2]))\n",
    "X_train_q4 = X_train_q4.T\n",
    "X_train_q4 = np.hstack((X_train_q4,fin_vec))\n",
    "X_train_q4.shape"
   ]
  },
  {
   "cell_type": "code",
   "execution_count": 57,
   "metadata": {
    "colab": {
     "base_uri": "https://localhost:8080/",
     "height": 34
    },
    "colab_type": "code",
    "id": "dBmVJ_LwcxIw",
    "outputId": "8995743e-0763-4059-92c8-26eb26a23fb1"
   },
   "outputs": [
    {
     "data": {
      "text/plain": [
       "(1222, 109)"
      ]
     },
     "execution_count": 57,
     "metadata": {
      "tags": []
     },
     "output_type": "execute_result"
    }
   ],
   "source": [
    "#Taking important features test set\n",
    "X_test_q4 = np.vstack((X_test[:,26],X_test[:,29],X_test[:,28],X_test[:,25],X_test[:,0],X_test[:,27],X_test[:,39],X_test[:,16],X_test[:,2]))\n",
    "X_test_q4 = X_test_q4.T\n",
    "X_test_q4 = np.hstack((X_test_q4,fin_vec_test))\n",
    "X_test_q4.shape"
   ]
  },
  {
   "cell_type": "code",
   "execution_count": 58,
   "metadata": {
    "colab": {
     "base_uri": "https://localhost:8080/",
     "height": 296
    },
    "colab_type": "code",
    "id": "XrvSNpjzij3a",
    "outputId": "1375ebce-242a-437d-a427-b535a7dfabb3"
   },
   "outputs": [
    {
     "data": {
      "text/plain": [
       "[<matplotlib.lines.Line2D at 0x7f50535f6ef0>]"
      ]
     },
     "execution_count": 58,
     "metadata": {
      "tags": []
     },
     "output_type": "execute_result"
    },
    {
     "data": {
      "image/png": "[encoded data removed]",
      "text/plain": [
       "<Figure size 432x288 with 1 Axes>"
      ]
     },
     "metadata": {
      "tags": []
     },
     "output_type": "display_data"
    }
   ],
   "source": [
    "y_sub_sq_test_list = []\n",
    "depths = [5,6,7]\n",
    "for i in depths:\n",
    "  regr_q4_b = DecisionTreeRegressor(max_depth=i,min_samples_leaf=2000,criterion='mse',splitter='best',random_state=50)\n",
    "  regr_q4_b.fit(X_train_q4,Y_train)\n",
    "  Y_pred_test = regr_q4_b.predict(X_test_q4)\n",
    "  y_sub_sq_test = mean_squared_error(Y_pred_test, Y_test, squared=False)\n",
    "  y_sub_sq_test_list.append(y_sub_sq_test)\n",
    "plt.xlabel('depths')\n",
    "plt.ylabel('average error')\n",
    "plt.plot(depths, y_sub_sq_test_list)"
   ]
  },
  {
   "cell_type": "code",
   "execution_count": 59,
   "metadata": {
    "colab": {
     "base_uri": "https://localhost:8080/",
     "height": 34
    },
    "colab_type": "code",
    "id": "dfLOp0dYjA7W",
    "outputId": "a7707ae0-3388-417e-a03b-3d7dab9c5f3c"
   },
   "outputs": [
    {
     "data": {
      "text/plain": [
       "[8328.725852238731, 8329.707163036415, 8333.00315561901]"
      ]
     },
     "execution_count": 59,
     "metadata": {
      "tags": []
     },
     "output_type": "execute_result"
    }
   ],
   "source": [
    "y_sub_sq_test_list"
   ]
  },
  {
   "cell_type": "code",
   "execution_count": 0,
   "metadata": {
    "colab": {},
    "colab_type": "code",
    "id": "29pi7jd8jKJh"
   },
   "outputs": [],
   "source": []
  }
 ],
 "metadata": {
  "accelerator": "GPU",
  "colab": {
   "collapsed_sections": [],
   "machine_shape": "hm",
   "name": "ML_HW4.ipynb",
   "provenance": []
  },
  "kernelspec": {
   "display_name": "Python 3",
   "language": "python",
   "name": "python3"
  },
  "language_info": {
   "codemirror_mode": {
    "name": "ipython",
    "version": 3
   },
   "file_extension": ".py",
   "mimetype": "text/x-python",
   "name": "python",
   "nbconvert_exporter": "python",
   "pygments_lexer": "ipython3",
   "version": "3.7.4"
  }
 },
 "nbformat": 4,
 "nbformat_minor": 1
}
