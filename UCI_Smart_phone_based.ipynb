{
  "nbformat": 4,
  "nbformat_minor": 0,
  "metadata": {
    "colab": {
      "name": "ML_HW5.ipynb",
      "provenance": [],
      "collapsed_sections": [],
      "machine_shape": "hm"
    },
    "kernelspec": {
      "name": "python3",
      "display_name": "Python 3"
    },
    "accelerator": "GPU"
  },
  "cells": [
    {
      "cell_type": "code",
      "metadata": {
        "id": "dOm4NORebq9L",
        "colab_type": "code",
        "outputId": "1f9000c1-8be9-48b1-caef-c139ec4f59e0",
        "colab": {
          "base_uri": "https://localhost:8080/",
          "height": 34
        }
      },
      "source": [
        "import warnings\n",
        "warnings.filterwarnings(\"ignore\")\n",
        "import matplotlib.pyplot as plt\n",
        "import numpy as np\n",
        "import pandas as pd\n",
        "from keras.utils import to_categorical\n",
        "import numpy as np\n",
        "from sklearn.tree import DecisionTreeRegressor\n",
        "import matplotlib.pyplot as plt\n",
        "%matplotlib inline\n",
        "from sklearn.model_selection import cross_val_score\n",
        "import math\n",
        "from sklearn.metrics import mean_squared_error\n",
        "import random\n",
        "import itertools\n",
        "import statistics\n",
        "from scipy.stats import pearsonr\n",
        "from sklearn import metrics\n",
        "from sklearn.linear_model import LogisticRegression"
      ],
      "execution_count": 1,
      "outputs": [
        {
          "output_type": "stream",
          "text": [
            "Using TensorFlow backend.\n"
          ],
          "name": "stderr"
        }
      ]
    },
    {
      "cell_type": "code",
      "metadata": {
        "id": "vOuL1srIXgbK",
        "colab_type": "code",
        "colab": {}
      },
      "source": [
        "# Code to read csv file into Colaboratory:\n",
        "!pip install -U -q PyDrive\n",
        "from pydrive.auth import GoogleAuth\n",
        "from pydrive.drive import GoogleDrive\n",
        "from google.colab import auth\n",
        "from oauth2client.client import GoogleCredentials\n",
        "# Authenticate and create the PyDrive client.\n",
        "auth.authenticate_user()\n",
        "gauth = GoogleAuth()\n",
        "gauth.credentials = GoogleCredentials.get_application_default()\n",
        "drive = GoogleDrive(gauth)"
      ],
      "execution_count": 0,
      "outputs": []
    },
    {
      "cell_type": "code",
      "metadata": {
        "id": "nYXJ28vA5ot7",
        "colab_type": "code",
        "colab": {}
      },
      "source": [
        "X = 'https://drive.google.com/open?id=1cw_VD3AT8RKNNI67kxyg2uph9NVi7mRc'\n",
        "downloaded = drive.CreateFile({'id':'1cw_VD3AT8RKNNI67kxyg2uph9NVi7mRc'}) \n",
        "downloaded.GetContentFile('X.txt')\n",
        "\n",
        "Y = 'https://drive.google.com/open?id=1pySFqfJIaqpVZ9o8VdMKmKmvOmY2V0Lq'\n",
        "downloaded = drive.CreateFile({'id':'1pySFqfJIaqpVZ9o8VdMKmKmvOmY2V0Lq'}) \n",
        "downloaded.GetContentFile('Y.txt')\n",
        "\n",
        "features = 'https://drive.google.com/open?id=1TG8GBeGAK5EziMJXazCtyUSTvbGkhjKP'\n",
        "downloaded = drive.CreateFile({'id':'1TG8GBeGAK5EziMJXazCtyUSTvbGkhjKP'}) \n",
        "downloaded.GetContentFile('features.txt')\n",
        "\n",
        "classes = 'https://drive.google.com/open?id=1KZaF2Pxi6gwqFWN9nXvmmm-MO_iDvLrg'\n",
        "downloaded = drive.CreateFile({'id':'1KZaF2Pxi6gwqFWN9nXvmmm-MO_iDvLrg'}) \n",
        "downloaded.GetContentFile('activity_labels.txt')"
      ],
      "execution_count": 0,
      "outputs": []
    },
    {
      "cell_type": "markdown",
      "metadata": {
        "id": "f02NkUZ3TPsH",
        "colab_type": "text"
      },
      "source": [
        "### (c)Data Pre-processing"
      ]
    },
    {
      "cell_type": "code",
      "metadata": {
        "id": "TfRKIelr6DUk",
        "colab_type": "code",
        "outputId": "d59ed4d7-9625-477e-d2dc-1df9ad6db324",
        "colab": {
          "base_uri": "https://localhost:8080/",
          "height": 34
        }
      },
      "source": [
        "#data reading\n",
        "X_raw = np.genfromtxt(\"X.txt\", delimiter=\" \", skip_header=1)\n",
        "Y_raw = np.genfromtxt('Y.txt', delimiter=\" \", skip_header=1)\n",
        "X_raw.shape"
      ],
      "execution_count": 10,
      "outputs": [
        {
          "output_type": "execute_result",
          "data": {
            "text/plain": [
              "(10928, 561)"
            ]
          },
          "metadata": {
            "tags": []
          },
          "execution_count": 10
        }
      ]
    },
    {
      "cell_type": "markdown",
      "metadata": {
        "id": "506AOue6MuWV",
        "colab_type": "text"
      },
      "source": [
        "### Data Pre-processing - Find Missing Values"
      ]
    },
    {
      "cell_type": "code",
      "metadata": {
        "id": "VniVbQpAM0Zs",
        "colab_type": "code",
        "colab": {}
      },
      "source": [
        "nan_list = []\n",
        "for i in range(X_raw.shape[0]):\n",
        "  for j in range(X_raw.shape[1]):\n",
        "    s = np.isnan(X_raw[i][j])\n",
        "    if s == 'true':\n",
        "      nan_list.append((i,j))"
      ],
      "execution_count": 0,
      "outputs": []
    },
    {
      "cell_type": "code",
      "metadata": {
        "id": "x_Xm3hc1M0Ws",
        "colab_type": "code",
        "colab": {
          "base_uri": "https://localhost:8080/",
          "height": 34
        },
        "outputId": "3c0639a6-aa46-4b6e-a262-2bb69af796e0"
      },
      "source": [
        "print(\"nan_list =\",nan_list)"
      ],
      "execution_count": 12,
      "outputs": [
        {
          "output_type": "stream",
          "text": [
            "nan_list = []\n"
          ],
          "name": "stdout"
        }
      ]
    },
    {
      "cell_type": "markdown",
      "metadata": {
        "id": "_yjzhjJ_HKqW",
        "colab_type": "text"
      },
      "source": [
        "### (e)Splitting data"
      ]
    },
    {
      "cell_type": "code",
      "metadata": {
        "id": "7EUgCHBfHHUj",
        "colab_type": "code",
        "colab": {
          "base_uri": "https://localhost:8080/",
          "height": 69
        },
        "outputId": "81624b82-2b67-43b6-9048-ff65c86785ff"
      },
      "source": [
        "from sklearn.model_selection import train_test_split\n",
        "X_train, X_dev_test, Y_train, Y_dev_test = train_test_split(X_raw, Y_raw, test_size=0.2, random_state=3)\n",
        "X_test, X_dev, Y_test, Y_dev = train_test_split(X_dev_test, Y_dev_test, test_size=0.5, random_state=5)\n",
        "print('X_train_shape = ', X_train.shape)\n",
        "print('X_dev_shape = ', X_dev.shape)\n",
        "print('X_test_shape = ', X_test.shape)"
      ],
      "execution_count": 19,
      "outputs": [
        {
          "output_type": "stream",
          "text": [
            "X_train_shape =  (8742, 561)\n",
            "X_dev_shape =  (1093, 561)\n",
            "X_test_shape =  (1093, 561)\n"
          ],
          "name": "stdout"
        }
      ]
    },
    {
      "cell_type": "markdown",
      "metadata": {
        "id": "soJxEQkiTjte",
        "colab_type": "text"
      },
      "source": [
        "### (c) Data Pre-processing - Convert to categorical"
      ]
    },
    {
      "cell_type": "code",
      "metadata": {
        "id": "CKZ118FoGWDl",
        "colab_type": "code",
        "colab": {
          "base_uri": "https://localhost:8080/",
          "height": 69
        },
        "outputId": "49f658cd-0d1e-4c24-a2eb-b8f575cd9ff6"
      },
      "source": [
        "y_train_cat = to_categorical(Y_train)\n",
        "y_dev_cat = to_categorical(Y_dev)\n",
        "y_test_cat = to_categorical(Y_test)\n",
        "\n",
        "print('y_train_cat shape = ', y_train_cat.shape)\n",
        "print('y_dev_cat shape = ', y_dev_cat.shape)\n",
        "print('y_test_cat shape = ', y_test_cat.shape)"
      ],
      "execution_count": 21,
      "outputs": [
        {
          "output_type": "stream",
          "text": [
            "y_train_cat shape =  (8742, 13)\n",
            "y_dev_cat shape =  (1093, 13)\n",
            "y_test_cat shape =  (1093, 13)\n"
          ],
          "name": "stdout"
        }
      ]
    },
    {
      "cell_type": "markdown",
      "metadata": {
        "id": "xUsJKVWFTqSu",
        "colab_type": "text"
      },
      "source": [
        "### (d) Data Exploration - Visualization"
      ]
    },
    {
      "cell_type": "code",
      "metadata": {
        "id": "xj0ZCB4jVdu_",
        "colab_type": "code",
        "colab": {
          "base_uri": "https://localhost:8080/",
          "height": 52
        },
        "outputId": "b90a9a52-c3ee-49ee-96d1-e0c69d6df7dc"
      },
      "source": [
        "features = pd.read_csv('features.txt',header=None)\n",
        "classes = pd.read_csv('activity_labels.txt',header=None)\n",
        "print(\"feature_shape =\",features.shape)\n",
        "print(\"Classes_shape=\",classes.shape)"
      ],
      "execution_count": 64,
      "outputs": [
        {
          "output_type": "stream",
          "text": [
            "feature_shape = (561, 1)\n",
            "Classes_shape= (12, 1)\n"
          ],
          "name": "stdout"
        }
      ]
    },
    {
      "cell_type": "code",
      "metadata": {
        "id": "sYJD4-T-INbD",
        "colab_type": "code",
        "colab": {
          "base_uri": "https://localhost:8080/",
          "height": 202
        },
        "outputId": "8622475e-1f93-46b1-ac61-e3d4dba2f68b"
      },
      "source": [
        "features.head()"
      ],
      "execution_count": 65,
      "outputs": [
        {
          "output_type": "execute_result",
          "data": {
            "text/html": [
              "<div>\n",
              "<style scoped>\n",
              "    .dataframe tbody tr th:only-of-type {\n",
              "        vertical-align: middle;\n",
              "    }\n",
              "\n",
              "    .dataframe tbody tr th {\n",
              "        vertical-align: top;\n",
              "    }\n",
              "\n",
              "    .dataframe thead th {\n",
              "        text-align: right;\n",
              "    }\n",
              "</style>\n",
              "<table border=\"1\" class=\"dataframe\">\n",
              "  <thead>\n",
              "    <tr style=\"text-align: right;\">\n",
              "      <th></th>\n",
              "      <th>0</th>\n",
              "    </tr>\n",
              "  </thead>\n",
              "  <tbody>\n",
              "    <tr>\n",
              "      <th>0</th>\n",
              "      <td>tBodyAcc-Mean-1</td>\n",
              "    </tr>\n",
              "    <tr>\n",
              "      <th>1</th>\n",
              "      <td>tBodyAcc-Mean-2</td>\n",
              "    </tr>\n",
              "    <tr>\n",
              "      <th>2</th>\n",
              "      <td>tBodyAcc-Mean-3</td>\n",
              "    </tr>\n",
              "    <tr>\n",
              "      <th>3</th>\n",
              "      <td>tBodyAcc-STD-1</td>\n",
              "    </tr>\n",
              "    <tr>\n",
              "      <th>4</th>\n",
              "      <td>tBodyAcc-STD-2</td>\n",
              "    </tr>\n",
              "  </tbody>\n",
              "</table>\n",
              "</div>"
            ],
            "text/plain": [
              "                                 0\n",
              "0  tBodyAcc-Mean-1                \n",
              "1  tBodyAcc-Mean-2                \n",
              "2  tBodyAcc-Mean-3                \n",
              "3  tBodyAcc-STD-1                 \n",
              "4  tBodyAcc-STD-2                 "
            ]
          },
          "metadata": {
            "tags": []
          },
          "execution_count": 65
        }
      ]
    },
    {
      "cell_type": "code",
      "metadata": {
        "id": "jgWYXpCwIZcq",
        "colab_type": "code",
        "colab": {
          "base_uri": "https://localhost:8080/",
          "height": 417
        },
        "outputId": "01c43ab5-aab4-42a4-c5c7-c5489c570038"
      },
      "source": [
        "classes.columns = ['Activities']\n",
        "classes"
      ],
      "execution_count": 66,
      "outputs": [
        {
          "output_type": "execute_result",
          "data": {
            "text/html": [
              "<div>\n",
              "<style scoped>\n",
              "    .dataframe tbody tr th:only-of-type {\n",
              "        vertical-align: middle;\n",
              "    }\n",
              "\n",
              "    .dataframe tbody tr th {\n",
              "        vertical-align: top;\n",
              "    }\n",
              "\n",
              "    .dataframe thead th {\n",
              "        text-align: right;\n",
              "    }\n",
              "</style>\n",
              "<table border=\"1\" class=\"dataframe\">\n",
              "  <thead>\n",
              "    <tr style=\"text-align: right;\">\n",
              "      <th></th>\n",
              "      <th>Activities</th>\n",
              "    </tr>\n",
              "  </thead>\n",
              "  <tbody>\n",
              "    <tr>\n",
              "      <th>0</th>\n",
              "      <td>1 WALKING</td>\n",
              "    </tr>\n",
              "    <tr>\n",
              "      <th>1</th>\n",
              "      <td>2 WALKING_UPSTAIRS</td>\n",
              "    </tr>\n",
              "    <tr>\n",
              "      <th>2</th>\n",
              "      <td>3 WALKING_DOWNSTAIRS</td>\n",
              "    </tr>\n",
              "    <tr>\n",
              "      <th>3</th>\n",
              "      <td>4 SITTING</td>\n",
              "    </tr>\n",
              "    <tr>\n",
              "      <th>4</th>\n",
              "      <td>5 STANDING</td>\n",
              "    </tr>\n",
              "    <tr>\n",
              "      <th>5</th>\n",
              "      <td>6 LAYING</td>\n",
              "    </tr>\n",
              "    <tr>\n",
              "      <th>6</th>\n",
              "      <td>7 STAND_TO_SIT</td>\n",
              "    </tr>\n",
              "    <tr>\n",
              "      <th>7</th>\n",
              "      <td>8 SIT_TO_STAND</td>\n",
              "    </tr>\n",
              "    <tr>\n",
              "      <th>8</th>\n",
              "      <td>9 SIT_TO_LIE</td>\n",
              "    </tr>\n",
              "    <tr>\n",
              "      <th>9</th>\n",
              "      <td>10 LIE_TO_SIT</td>\n",
              "    </tr>\n",
              "    <tr>\n",
              "      <th>10</th>\n",
              "      <td>11 STAND_TO_LIE</td>\n",
              "    </tr>\n",
              "    <tr>\n",
              "      <th>11</th>\n",
              "      <td>12 LIE_TO_STAND</td>\n",
              "    </tr>\n",
              "  </tbody>\n",
              "</table>\n",
              "</div>"
            ],
            "text/plain": [
              "               Activities\n",
              "0    1 WALKING           \n",
              "1    2 WALKING_UPSTAIRS  \n",
              "2    3 WALKING_DOWNSTAIRS\n",
              "3    4 SITTING           \n",
              "4    5 STANDING          \n",
              "5    6 LAYING            \n",
              "6    7 STAND_TO_SIT      \n",
              "7    8 SIT_TO_STAND      \n",
              "8    9 SIT_TO_LIE        \n",
              "9   10 LIE_TO_SIT        \n",
              "10  11 STAND_TO_LIE      \n",
              "11  12 LIE_TO_STAND      "
            ]
          },
          "metadata": {
            "tags": []
          },
          "execution_count": 66
        }
      ]
    },
    {
      "cell_type": "code",
      "metadata": {
        "id": "e1tMhDqrIZ5u",
        "colab_type": "code",
        "colab": {
          "base_uri": "https://localhost:8080/",
          "height": 417
        },
        "outputId": "05f5cb7d-65f2-4aa5-9d21-32b82a661cc8"
      },
      "source": [
        "classes[['Num','Activity']] = classes.Activities.str.split(expand=True)\n",
        "classes = classes.drop(columns='Activities')\n",
        "classes = classes.drop(columns='Num')"
      ],
      "execution_count": 67,
      "outputs": [
        {
          "output_type": "execute_result",
          "data": {
            "text/html": [
              "<div>\n",
              "<style scoped>\n",
              "    .dataframe tbody tr th:only-of-type {\n",
              "        vertical-align: middle;\n",
              "    }\n",
              "\n",
              "    .dataframe tbody tr th {\n",
              "        vertical-align: top;\n",
              "    }\n",
              "\n",
              "    .dataframe thead th {\n",
              "        text-align: right;\n",
              "    }\n",
              "</style>\n",
              "<table border=\"1\" class=\"dataframe\">\n",
              "  <thead>\n",
              "    <tr style=\"text-align: right;\">\n",
              "      <th></th>\n",
              "      <th>Activity</th>\n",
              "    </tr>\n",
              "  </thead>\n",
              "  <tbody>\n",
              "    <tr>\n",
              "      <th>0</th>\n",
              "      <td>WALKING</td>\n",
              "    </tr>\n",
              "    <tr>\n",
              "      <th>1</th>\n",
              "      <td>WALKING_UPSTAIRS</td>\n",
              "    </tr>\n",
              "    <tr>\n",
              "      <th>2</th>\n",
              "      <td>WALKING_DOWNSTAIRS</td>\n",
              "    </tr>\n",
              "    <tr>\n",
              "      <th>3</th>\n",
              "      <td>SITTING</td>\n",
              "    </tr>\n",
              "    <tr>\n",
              "      <th>4</th>\n",
              "      <td>STANDING</td>\n",
              "    </tr>\n",
              "    <tr>\n",
              "      <th>5</th>\n",
              "      <td>LAYING</td>\n",
              "    </tr>\n",
              "    <tr>\n",
              "      <th>6</th>\n",
              "      <td>STAND_TO_SIT</td>\n",
              "    </tr>\n",
              "    <tr>\n",
              "      <th>7</th>\n",
              "      <td>SIT_TO_STAND</td>\n",
              "    </tr>\n",
              "    <tr>\n",
              "      <th>8</th>\n",
              "      <td>SIT_TO_LIE</td>\n",
              "    </tr>\n",
              "    <tr>\n",
              "      <th>9</th>\n",
              "      <td>LIE_TO_SIT</td>\n",
              "    </tr>\n",
              "    <tr>\n",
              "      <th>10</th>\n",
              "      <td>STAND_TO_LIE</td>\n",
              "    </tr>\n",
              "    <tr>\n",
              "      <th>11</th>\n",
              "      <td>LIE_TO_STAND</td>\n",
              "    </tr>\n",
              "  </tbody>\n",
              "</table>\n",
              "</div>"
            ],
            "text/plain": [
              "              Activity\n",
              "0              WALKING\n",
              "1     WALKING_UPSTAIRS\n",
              "2   WALKING_DOWNSTAIRS\n",
              "3              SITTING\n",
              "4             STANDING\n",
              "5               LAYING\n",
              "6         STAND_TO_SIT\n",
              "7         SIT_TO_STAND\n",
              "8           SIT_TO_LIE\n",
              "9           LIE_TO_SIT\n",
              "10        STAND_TO_LIE\n",
              "11        LIE_TO_STAND"
            ]
          },
          "metadata": {
            "tags": []
          },
          "execution_count": 67
        }
      ]
    },
    {
      "cell_type": "code",
      "metadata": {
        "id": "jFC0tF9pIZ3c",
        "colab_type": "code",
        "colab": {
          "base_uri": "https://localhost:8080/",
          "height": 225
        },
        "outputId": "308f9e5f-d93a-408f-c924-09bf6556f26a"
      },
      "source": [
        "classes_list = classes['Activity'].to_list()\n",
        "classes_list"
      ],
      "execution_count": 71,
      "outputs": [
        {
          "output_type": "execute_result",
          "data": {
            "text/plain": [
              "['WALKING',\n",
              " 'WALKING_UPSTAIRS',\n",
              " 'WALKING_DOWNSTAIRS',\n",
              " 'SITTING',\n",
              " 'STANDING',\n",
              " 'LAYING',\n",
              " 'STAND_TO_SIT',\n",
              " 'SIT_TO_STAND',\n",
              " 'SIT_TO_LIE',\n",
              " 'LIE_TO_SIT',\n",
              " 'STAND_TO_LIE',\n",
              " 'LIE_TO_STAND']"
            ]
          },
          "metadata": {
            "tags": []
          },
          "execution_count": 71
        }
      ]
    },
    {
      "cell_type": "code",
      "metadata": {
        "id": "MPlkD1SCL0f5",
        "colab_type": "code",
        "colab": {
          "base_uri": "https://localhost:8080/",
          "height": 1000
        },
        "outputId": "5d4c019c-1443-4250-9b75-9780f4cb347a"
      },
      "source": [
        "features.columns = ['Features']\n",
        "feature_list = features['Features'].to_list()\n",
        "feature_list"
      ],
      "execution_count": 74,
      "outputs": [
        {
          "output_type": "execute_result",
          "data": {
            "text/plain": [
              "['tBodyAcc-Mean-1                ',\n",
              " 'tBodyAcc-Mean-2                ',\n",
              " 'tBodyAcc-Mean-3                ',\n",
              " 'tBodyAcc-STD-1                 ',\n",
              " 'tBodyAcc-STD-2                 ',\n",
              " 'tBodyAcc-STD-3                 ',\n",
              " 'tBodyAcc-Mad-1                 ',\n",
              " 'tBodyAcc-Mad-2                 ',\n",
              " 'tBodyAcc-Mad-3                 ',\n",
              " 'tBodyAcc-Max-1                 ',\n",
              " 'tBodyAcc-Max-2                 ',\n",
              " 'tBodyAcc-Max-3                 ',\n",
              " 'tBodyAcc-Min-1                 ',\n",
              " 'tBodyAcc-Min-2                 ',\n",
              " 'tBodyAcc-Min-3                 ',\n",
              " 'tBodyAcc-SMA-1                 ',\n",
              " 'tBodyAcc-Energy-1              ',\n",
              " 'tBodyAcc-Energy-2              ',\n",
              " 'tBodyAcc-Energy-3              ',\n",
              " 'tBodyAcc-IQR-1                 ',\n",
              " 'tBodyAcc-IQR-2                 ',\n",
              " 'tBodyAcc-IQR-3                 ',\n",
              " 'tBodyAcc-ropy-1                ',\n",
              " 'tBodyAcc-ropy-1                ',\n",
              " 'tBodyAcc-ropy-1                ',\n",
              " 'tBodyAcc-ARCoeff-1             ',\n",
              " 'tBodyAcc-ARCoeff-2             ',\n",
              " 'tBodyAcc-ARCoeff-3             ',\n",
              " 'tBodyAcc-ARCoeff-4             ',\n",
              " 'tBodyAcc-ARCoeff-5             ',\n",
              " 'tBodyAcc-ARCoeff-6             ',\n",
              " 'tBodyAcc-ARCoeff-7             ',\n",
              " 'tBodyAcc-ARCoeff-8             ',\n",
              " 'tBodyAcc-ARCoeff-9             ',\n",
              " 'tBodyAcc-ARCoeff-10            ',\n",
              " 'tBodyAcc-ARCoeff-11            ',\n",
              " 'tBodyAcc-ARCoeff-12            ',\n",
              " 'tBodyAcc-Correlation-1         ',\n",
              " 'tBodyAcc-Correlation-2         ',\n",
              " 'tBodyAcc-Correlation-3         ',\n",
              " 'tGravityAcc-Mean-1             ',\n",
              " 'tGravityAcc-Mean-2             ',\n",
              " 'tGravityAcc-Mean-3             ',\n",
              " 'tGravityAcc-STD-1              ',\n",
              " 'tGravityAcc-STD-2              ',\n",
              " 'tGravityAcc-STD-3              ',\n",
              " 'tGravityAcc-Mad-1              ',\n",
              " 'tGravityAcc-Mad-2              ',\n",
              " 'tGravityAcc-Mad-3              ',\n",
              " 'tGravityAcc-Max-1              ',\n",
              " 'tGravityAcc-Max-2              ',\n",
              " 'tGravityAcc-Max-3              ',\n",
              " 'tGravityAcc-Min-1              ',\n",
              " 'tGravityAcc-Min-2              ',\n",
              " 'tGravityAcc-Min-3              ',\n",
              " 'tGravityAcc-SMA-1              ',\n",
              " 'tGravityAcc-Energy-1           ',\n",
              " 'tGravityAcc-Energy-2           ',\n",
              " 'tGravityAcc-Energy-3           ',\n",
              " 'tGravityAcc-IQR-1              ',\n",
              " 'tGravityAcc-IQR-2              ',\n",
              " 'tGravityAcc-IQR-3              ',\n",
              " 'tGravityAcc-ropy-1             ',\n",
              " 'tGravityAcc-ropy-1             ',\n",
              " 'tGravityAcc-ropy-1             ',\n",
              " 'tGravityAcc-ARCoeff-1          ',\n",
              " 'tGravityAcc-ARCoeff-2          ',\n",
              " 'tGravityAcc-ARCoeff-3          ',\n",
              " 'tGravityAcc-ARCoeff-4          ',\n",
              " 'tGravityAcc-ARCoeff-5          ',\n",
              " 'tGravityAcc-ARCoeff-6          ',\n",
              " 'tGravityAcc-ARCoeff-7          ',\n",
              " 'tGravityAcc-ARCoeff-8          ',\n",
              " 'tGravityAcc-ARCoeff-9          ',\n",
              " 'tGravityAcc-ARCoeff-10         ',\n",
              " 'tGravityAcc-ARCoeff-11         ',\n",
              " 'tGravityAcc-ARCoeff-12         ',\n",
              " 'tGravityAcc-Correlation-1      ',\n",
              " 'tGravityAcc-Correlation-2      ',\n",
              " 'tGravityAcc-Correlation-3      ',\n",
              " 'tBodyAccJerk-Mean-1            ',\n",
              " 'tBodyAccJerk-Mean-2            ',\n",
              " 'tBodyAccJerk-Mean-3            ',\n",
              " 'tBodyAccJerk-STD-1             ',\n",
              " 'tBodyAccJerk-STD-2             ',\n",
              " 'tBodyAccJerk-STD-3             ',\n",
              " 'tBodyAccJerk-Mad-1             ',\n",
              " 'tBodyAccJerk-Mad-2             ',\n",
              " 'tBodyAccJerk-Mad-3             ',\n",
              " 'tBodyAccJerk-Max-1             ',\n",
              " 'tBodyAccJerk-Max-2             ',\n",
              " 'tBodyAccJerk-Max-3             ',\n",
              " 'tBodyAccJerk-Min-1             ',\n",
              " 'tBodyAccJerk-Min-2             ',\n",
              " 'tBodyAccJerk-Min-3             ',\n",
              " 'tBodyAccJerk-SMA-1             ',\n",
              " 'tBodyAccJerk-Energy-1          ',\n",
              " 'tBodyAccJerk-Energy-2          ',\n",
              " 'tBodyAccJerk-Energy-3          ',\n",
              " 'tBodyAccJerk-IQR-1             ',\n",
              " 'tBodyAccJerk-IQR-2             ',\n",
              " 'tBodyAccJerk-IQR-3             ',\n",
              " 'tBodyAccJerk-ropy-1            ',\n",
              " 'tBodyAccJerk-ropy-1            ',\n",
              " 'tBodyAccJerk-ropy-1            ',\n",
              " 'tBodyAccJerk-ARCoeff-1         ',\n",
              " 'tBodyAccJerk-ARCoeff-2         ',\n",
              " 'tBodyAccJerk-ARCoeff-3         ',\n",
              " 'tBodyAccJerk-ARCoeff-4         ',\n",
              " 'tBodyAccJerk-ARCoeff-5         ',\n",
              " 'tBodyAccJerk-ARCoeff-6         ',\n",
              " 'tBodyAccJerk-ARCoeff-7         ',\n",
              " 'tBodyAccJerk-ARCoeff-8         ',\n",
              " 'tBodyAccJerk-ARCoeff-9         ',\n",
              " 'tBodyAccJerk-ARCoeff-10        ',\n",
              " 'tBodyAccJerk-ARCoeff-11        ',\n",
              " 'tBodyAccJerk-ARCoeff-12        ',\n",
              " 'tBodyAccJerk-Correlation-1     ',\n",
              " 'tBodyAccJerk-Correlation-2     ',\n",
              " 'tBodyAccJerk-Correlation-3     ',\n",
              " 'tBodyGyro-Mean-1               ',\n",
              " 'tBodyGyro-Mean-2               ',\n",
              " 'tBodyGyro-Mean-3               ',\n",
              " 'tBodyGyro-STD-1                ',\n",
              " 'tBodyGyro-STD-2                ',\n",
              " 'tBodyGyro-STD-3                ',\n",
              " 'tBodyGyro-Mad-1                ',\n",
              " 'tBodyGyro-Mad-2                ',\n",
              " 'tBodyGyro-Mad-3                ',\n",
              " 'tBodyGyro-Max-1                ',\n",
              " 'tBodyGyro-Max-2                ',\n",
              " 'tBodyGyro-Max-3                ',\n",
              " 'tBodyGyro-Min-1                ',\n",
              " 'tBodyGyro-Min-2                ',\n",
              " 'tBodyGyro-Min-3                ',\n",
              " 'tBodyGyro-SMA-1                ',\n",
              " 'tBodyGyro-Energy-1             ',\n",
              " 'tBodyGyro-Energy-2             ',\n",
              " 'tBodyGyro-Energy-3             ',\n",
              " 'tBodyGyro-IQR-1                ',\n",
              " 'tBodyGyro-IQR-2                ',\n",
              " 'tBodyGyro-IQR-3                ',\n",
              " 'tBodyGyro-ropy-1               ',\n",
              " 'tBodyGyro-ropy-1               ',\n",
              " 'tBodyGyro-ropy-1               ',\n",
              " 'tBodyGyro-ARCoeff-1            ',\n",
              " 'tBodyGyro-ARCoeff-2            ',\n",
              " 'tBodyGyro-ARCoeff-3            ',\n",
              " 'tBodyGyro-ARCoeff-4            ',\n",
              " 'tBodyGyro-ARCoeff-5            ',\n",
              " 'tBodyGyro-ARCoeff-6            ',\n",
              " 'tBodyGyro-ARCoeff-7            ',\n",
              " 'tBodyGyro-ARCoeff-8            ',\n",
              " 'tBodyGyro-ARCoeff-9            ',\n",
              " 'tBodyGyro-ARCoeff-10           ',\n",
              " 'tBodyGyro-ARCoeff-11           ',\n",
              " 'tBodyGyro-ARCoeff-12           ',\n",
              " 'tBodyGyro-Correlation-1        ',\n",
              " 'tBodyGyro-Correlation-2        ',\n",
              " 'tBodyGyro-Correlation-3        ',\n",
              " 'tBodyGyroJerk-Mean-1           ',\n",
              " 'tBodyGyroJerk-Mean-2           ',\n",
              " 'tBodyGyroJerk-Mean-3           ',\n",
              " 'tBodyGyroJerk-STD-1            ',\n",
              " 'tBodyGyroJerk-STD-2            ',\n",
              " 'tBodyGyroJerk-STD-3            ',\n",
              " 'tBodyGyroJerk-Mad-1            ',\n",
              " 'tBodyGyroJerk-Mad-2            ',\n",
              " 'tBodyGyroJerk-Mad-3            ',\n",
              " 'tBodyGyroJerk-Max-1            ',\n",
              " 'tBodyGyroJerk-Max-2            ',\n",
              " 'tBodyGyroJerk-Max-3            ',\n",
              " 'tBodyGyroJerk-Min-1            ',\n",
              " 'tBodyGyroJerk-Min-2            ',\n",
              " 'tBodyGyroJerk-Min-3            ',\n",
              " 'tBodyGyroJerk-SMA-1            ',\n",
              " 'tBodyGyroJerk-Energy-1         ',\n",
              " 'tBodyGyroJerk-Energy-2         ',\n",
              " 'tBodyGyroJerk-Energy-3         ',\n",
              " 'tBodyGyroJerk-IQR-1            ',\n",
              " 'tBodyGyroJerk-IQR-2            ',\n",
              " 'tBodyGyroJerk-IQR-3            ',\n",
              " 'tBodyGyroJerk-ropy-1           ',\n",
              " 'tBodyGyroJerk-ropy-1           ',\n",
              " 'tBodyGyroJerk-ropy-1           ',\n",
              " 'tBodyGyroJerk-ARCoeff-1        ',\n",
              " 'tBodyGyroJerk-ARCoeff-2        ',\n",
              " 'tBodyGyroJerk-ARCoeff-3        ',\n",
              " 'tBodyGyroJerk-ARCoeff-4        ',\n",
              " 'tBodyGyroJerk-ARCoeff-5        ',\n",
              " 'tBodyGyroJerk-ARCoeff-6        ',\n",
              " 'tBodyGyroJerk-ARCoeff-7        ',\n",
              " 'tBodyGyroJerk-ARCoeff-8        ',\n",
              " 'tBodyGyroJerk-ARCoeff-9        ',\n",
              " 'tBodyGyroJerk-ARCoeff-10       ',\n",
              " 'tBodyGyroJerk-ARCoeff-11       ',\n",
              " 'tBodyGyroJerk-ARCoeff-12       ',\n",
              " 'tBodyGyroJerk-Correlation-1    ',\n",
              " 'tBodyGyroJerk-Correlation-2    ',\n",
              " 'tBodyGyroJerk-Correlation-3    ',\n",
              " 'tBodyAccMag-Mean-1             ',\n",
              " 'tBodyAccMag-STD-1              ',\n",
              " 'tBodyAccMag-Mad-1              ',\n",
              " 'tBodyAccMag-Max-1              ',\n",
              " 'tBodyAccMag-Min-1              ',\n",
              " 'tBodyAccMag-SMA-1              ',\n",
              " 'tBodyAccMag-Energy-1           ',\n",
              " 'tBodyAccMag-IQR-1              ',\n",
              " 'tBodyAccMag-ropy-1             ',\n",
              " 'tBodyAccMag-ARCoeff-1          ',\n",
              " 'tBodyAccMag-ARCoeff-2          ',\n",
              " 'tBodyAccMag-ARCoeff-3          ',\n",
              " 'tBodyAccMag-ARCoeff-4          ',\n",
              " 'tGravityAccMag-Mean-1          ',\n",
              " 'tGravityAccMag-STD-1           ',\n",
              " 'tGravityAccMag-Mad-1           ',\n",
              " 'tGravityAccMag-Max-1           ',\n",
              " 'tGravityAccMag-Min-1           ',\n",
              " 'tGravityAccMag-SMA-1           ',\n",
              " 'tGravityAccMag-Energy-1        ',\n",
              " 'tGravityAccMag-IQR-1           ',\n",
              " 'tGravityAccMag-ropy-1          ',\n",
              " 'tGravityAccMag-ARCoeff-1       ',\n",
              " 'tGravityAccMag-ARCoeff-2       ',\n",
              " 'tGravityAccMag-ARCoeff-3       ',\n",
              " 'tGravityAccMag-ARCoeff-4       ',\n",
              " 'tBodyAccJerkMag-Mean-1         ',\n",
              " 'tBodyAccJerkMag-STD-1          ',\n",
              " 'tBodyAccJerkMag-Mad-1          ',\n",
              " 'tBodyAccJerkMag-Max-1          ',\n",
              " 'tBodyAccJerkMag-Min-1          ',\n",
              " 'tBodyAccJerkMag-SMA-1          ',\n",
              " 'tBodyAccJerkMag-Energy-1       ',\n",
              " 'tBodyAccJerkMag-IQR-1          ',\n",
              " 'tBodyAccJerkMag-ropy-1         ',\n",
              " 'tBodyAccJerkMag-ARCoeff-1      ',\n",
              " 'tBodyAccJerkMag-ARCoeff-2      ',\n",
              " 'tBodyAccJerkMag-ARCoeff-3      ',\n",
              " 'tBodyAccJerkMag-ARCoeff-4      ',\n",
              " 'tBodyGyroMag-Mean-1            ',\n",
              " 'tBodyGyroMag-STD-1             ',\n",
              " 'tBodyGyroMag-Mad-1             ',\n",
              " 'tBodyGyroMag-Max-1             ',\n",
              " 'tBodyGyroMag-Min-1             ',\n",
              " 'tBodyGyroMag-SMA-1             ',\n",
              " 'tBodyGyroMag-Energy-1          ',\n",
              " 'tBodyGyroMag-IQR-1             ',\n",
              " 'tBodyGyroMag-ropy-1            ',\n",
              " 'tBodyGyroMag-ARCoeff-1         ',\n",
              " 'tBodyGyroMag-ARCoeff-2         ',\n",
              " 'tBodyGyroMag-ARCoeff-3         ',\n",
              " 'tBodyGyroMag-ARCoeff-4         ',\n",
              " 'tBodyGyroJerkMag-Mean-1        ',\n",
              " 'tBodyGyroJerkMag-STD-1         ',\n",
              " 'tBodyGyroJerkMag-Mad-1         ',\n",
              " 'tBodyGyroJerkMag-Max-1         ',\n",
              " 'tBodyGyroJerkMag-Min-1         ',\n",
              " 'tBodyGyroJerkMag-SMA-1         ',\n",
              " 'tBodyGyroJerkMag-Energy-1      ',\n",
              " 'tBodyGyroJerkMag-IQR-1         ',\n",
              " 'tBodyGyroJerkMag-ropy-1        ',\n",
              " 'tBodyGyroJerkMag-ARCoeff-1     ',\n",
              " 'tBodyGyroJerkMag-ARCoeff-2     ',\n",
              " 'tBodyGyroJerkMag-ARCoeff-3     ',\n",
              " 'tBodyGyroJerkMag-ARCoeff-4     ',\n",
              " 'fBodyAcc-Mean-1                ',\n",
              " 'fBodyAcc-Mean-2                ',\n",
              " 'fBodyAcc-Mean-3                ',\n",
              " 'fBodyAcc-STD-1                 ',\n",
              " 'fBodyAcc-STD-2                 ',\n",
              " 'fBodyAcc-STD-3                 ',\n",
              " 'fBodyAcc-Mad-1                 ',\n",
              " 'fBodyAcc-Mad-2                 ',\n",
              " 'fBodyAcc-Mad-3                 ',\n",
              " 'fBodyAcc-Max-1                 ',\n",
              " 'fBodyAcc-Max-2                 ',\n",
              " 'fBodyAcc-Max-3                 ',\n",
              " 'fBodyAcc-Min-1                 ',\n",
              " 'fBodyAcc-Min-2                 ',\n",
              " 'fBodyAcc-Min-3                 ',\n",
              " 'fBodyAcc-SMA-1                 ',\n",
              " 'fBodyAcc-Energy-1              ',\n",
              " 'fBodyAcc-Energy-2              ',\n",
              " 'fBodyAcc-Energy-3              ',\n",
              " 'fBodyAcc-IQR-1                 ',\n",
              " 'fBodyAcc-IQR-2                 ',\n",
              " 'fBodyAcc-IQR-3                 ',\n",
              " 'fBodyAcc-ropy-1                ',\n",
              " 'fBodyAcc-ropy-1                ',\n",
              " 'fBodyAcc-ropy-1                ',\n",
              " 'fBodyAcc-MaxInds-1             ',\n",
              " 'fBodyAcc-MaxInds-2             ',\n",
              " 'fBodyAcc-MaxInds-3             ',\n",
              " 'fBodyAcc-MeanFreq-1            ',\n",
              " 'fBodyAcc-MeanFreq-2            ',\n",
              " 'fBodyAcc-MeanFreq-3            ',\n",
              " 'fBodyAcc-Skewness-1            ',\n",
              " 'fBodyAcc-Kurtosis-1            ',\n",
              " 'fBodyAcc-Skewness-1            ',\n",
              " 'fBodyAcc-Kurtosis-1            ',\n",
              " 'fBodyAcc-Skewness-1            ',\n",
              " 'fBodyAcc-Kurtosis-1            ',\n",
              " 'fBodyAcc-BandsEnergyOld-1      ',\n",
              " 'fBodyAcc-BandsEnergyOld-2      ',\n",
              " 'fBodyAcc-BandsEnergyOld-3      ',\n",
              " 'fBodyAcc-BandsEnergyOld-4      ',\n",
              " 'fBodyAcc-BandsEnergyOld-5      ',\n",
              " 'fBodyAcc-BandsEnergyOld-6      ',\n",
              " 'fBodyAcc-BandsEnergyOld-7      ',\n",
              " 'fBodyAcc-BandsEnergyOld-8      ',\n",
              " 'fBodyAcc-BandsEnergyOld-9      ',\n",
              " 'fBodyAcc-BandsEnergyOld-10     ',\n",
              " 'fBodyAcc-BandsEnergyOld-11     ',\n",
              " 'fBodyAcc-BandsEnergyOld-12     ',\n",
              " 'fBodyAcc-BandsEnergyOld-13     ',\n",
              " 'fBodyAcc-BandsEnergyOld-14     ',\n",
              " 'fBodyAcc-BandsEnergyOld-15     ',\n",
              " 'fBodyAcc-BandsEnergyOld-16     ',\n",
              " 'fBodyAcc-BandsEnergyOld-17     ',\n",
              " 'fBodyAcc-BandsEnergyOld-18     ',\n",
              " 'fBodyAcc-BandsEnergyOld-19     ',\n",
              " 'fBodyAcc-BandsEnergyOld-20     ',\n",
              " 'fBodyAcc-BandsEnergyOld-21     ',\n",
              " 'fBodyAcc-BandsEnergyOld-22     ',\n",
              " 'fBodyAcc-BandsEnergyOld-23     ',\n",
              " 'fBodyAcc-BandsEnergyOld-24     ',\n",
              " 'fBodyAcc-BandsEnergyOld-25     ',\n",
              " 'fBodyAcc-BandsEnergyOld-26     ',\n",
              " 'fBodyAcc-BandsEnergyOld-27     ',\n",
              " 'fBodyAcc-BandsEnergyOld-28     ',\n",
              " 'fBodyAcc-BandsEnergyOld-29     ',\n",
              " 'fBodyAcc-BandsEnergyOld-30     ',\n",
              " 'fBodyAcc-BandsEnergyOld-31     ',\n",
              " 'fBodyAcc-BandsEnergyOld-32     ',\n",
              " 'fBodyAcc-BandsEnergyOld-33     ',\n",
              " 'fBodyAcc-BandsEnergyOld-34     ',\n",
              " 'fBodyAcc-BandsEnergyOld-35     ',\n",
              " 'fBodyAcc-BandsEnergyOld-36     ',\n",
              " 'fBodyAcc-BandsEnergyOld-37     ',\n",
              " 'fBodyAcc-BandsEnergyOld-38     ',\n",
              " 'fBodyAcc-BandsEnergyOld-39     ',\n",
              " 'fBodyAcc-BandsEnergyOld-40     ',\n",
              " 'fBodyAcc-BandsEnergyOld-41     ',\n",
              " 'fBodyAcc-BandsEnergyOld-42     ',\n",
              " 'fBodyAccJerk-Mean-1            ',\n",
              " 'fBodyAccJerk-Mean-2            ',\n",
              " 'fBodyAccJerk-Mean-3            ',\n",
              " 'fBodyAccJerk-STD-1             ',\n",
              " 'fBodyAccJerk-STD-2             ',\n",
              " 'fBodyAccJerk-STD-3             ',\n",
              " 'fBodyAccJerk-Mad-1             ',\n",
              " 'fBodyAccJerk-Mad-2             ',\n",
              " 'fBodyAccJerk-Mad-3             ',\n",
              " 'fBodyAccJerk-Max-1             ',\n",
              " 'fBodyAccJerk-Max-2             ',\n",
              " 'fBodyAccJerk-Max-3             ',\n",
              " 'fBodyAccJerk-Min-1             ',\n",
              " 'fBodyAccJerk-Min-2             ',\n",
              " 'fBodyAccJerk-Min-3             ',\n",
              " 'fBodyAccJerk-SMA-1             ',\n",
              " 'fBodyAccJerk-Energy-1          ',\n",
              " 'fBodyAccJerk-Energy-2          ',\n",
              " 'fBodyAccJerk-Energy-3          ',\n",
              " 'fBodyAccJerk-IQR-1             ',\n",
              " 'fBodyAccJerk-IQR-2             ',\n",
              " 'fBodyAccJerk-IQR-3             ',\n",
              " 'fBodyAccJerk-ropy-1            ',\n",
              " 'fBodyAccJerk-ropy-1            ',\n",
              " 'fBodyAccJerk-ropy-1            ',\n",
              " 'fBodyAccJerk-MaxInds-1         ',\n",
              " 'fBodyAccJerk-MaxInds-2         ',\n",
              " 'fBodyAccJerk-MaxInds-3         ',\n",
              " 'fBodyAccJerk-MeanFreq-1        ',\n",
              " 'fBodyAccJerk-MeanFreq-2        ',\n",
              " 'fBodyAccJerk-MeanFreq-3        ',\n",
              " 'fBodyAccJerk-Skewness-1        ',\n",
              " 'fBodyAccJerk-Kurtosis-1        ',\n",
              " 'fBodyAccJerk-Skewness-1        ',\n",
              " 'fBodyAccJerk-Kurtosis-1        ',\n",
              " 'fBodyAccJerk-Skewness-1        ',\n",
              " 'fBodyAccJerk-Kurtosis-1        ',\n",
              " 'fBodyAccJerk-BandsEnergyOld-1  ',\n",
              " 'fBodyAccJerk-BandsEnergyOld-2  ',\n",
              " 'fBodyAccJerk-BandsEnergyOld-3  ',\n",
              " 'fBodyAccJerk-BandsEnergyOld-4  ',\n",
              " 'fBodyAccJerk-BandsEnergyOld-5  ',\n",
              " 'fBodyAccJerk-BandsEnergyOld-6  ',\n",
              " 'fBodyAccJerk-BandsEnergyOld-7  ',\n",
              " 'fBodyAccJerk-BandsEnergyOld-8  ',\n",
              " 'fBodyAccJerk-BandsEnergyOld-9  ',\n",
              " 'fBodyAccJerk-BandsEnergyOld-10 ',\n",
              " 'fBodyAccJerk-BandsEnergyOld-11 ',\n",
              " 'fBodyAccJerk-BandsEnergyOld-12 ',\n",
              " 'fBodyAccJerk-BandsEnergyOld-13 ',\n",
              " 'fBodyAccJerk-BandsEnergyOld-14 ',\n",
              " 'fBodyAccJerk-BandsEnergyOld-15 ',\n",
              " 'fBodyAccJerk-BandsEnergyOld-16 ',\n",
              " 'fBodyAccJerk-BandsEnergyOld-17 ',\n",
              " 'fBodyAccJerk-BandsEnergyOld-18 ',\n",
              " 'fBodyAccJerk-BandsEnergyOld-19 ',\n",
              " 'fBodyAccJerk-BandsEnergyOld-20 ',\n",
              " 'fBodyAccJerk-BandsEnergyOld-21 ',\n",
              " 'fBodyAccJerk-BandsEnergyOld-22 ',\n",
              " 'fBodyAccJerk-BandsEnergyOld-23 ',\n",
              " 'fBodyAccJerk-BandsEnergyOld-24 ',\n",
              " 'fBodyAccJerk-BandsEnergyOld-25 ',\n",
              " 'fBodyAccJerk-BandsEnergyOld-26 ',\n",
              " 'fBodyAccJerk-BandsEnergyOld-27 ',\n",
              " 'fBodyAccJerk-BandsEnergyOld-28 ',\n",
              " 'fBodyAccJerk-BandsEnergyOld-29 ',\n",
              " 'fBodyAccJerk-BandsEnergyOld-30 ',\n",
              " 'fBodyAccJerk-BandsEnergyOld-31 ',\n",
              " 'fBodyAccJerk-BandsEnergyOld-32 ',\n",
              " 'fBodyAccJerk-BandsEnergyOld-33 ',\n",
              " 'fBodyAccJerk-BandsEnergyOld-34 ',\n",
              " 'fBodyAccJerk-BandsEnergyOld-35 ',\n",
              " 'fBodyAccJerk-BandsEnergyOld-36 ',\n",
              " 'fBodyAccJerk-BandsEnergyOld-37 ',\n",
              " 'fBodyAccJerk-BandsEnergyOld-38 ',\n",
              " 'fBodyAccJerk-BandsEnergyOld-39 ',\n",
              " 'fBodyAccJerk-BandsEnergyOld-40 ',\n",
              " 'fBodyAccJerk-BandsEnergyOld-41 ',\n",
              " 'fBodyAccJerk-BandsEnergyOld-42 ',\n",
              " 'fBodyGyro-Mean-1               ',\n",
              " 'fBodyGyro-Mean-2               ',\n",
              " 'fBodyGyro-Mean-3               ',\n",
              " 'fBodyGyro-STD-1                ',\n",
              " 'fBodyGyro-STD-2                ',\n",
              " 'fBodyGyro-STD-3                ',\n",
              " 'fBodyGyro-Mad-1                ',\n",
              " 'fBodyGyro-Mad-2                ',\n",
              " 'fBodyGyro-Mad-3                ',\n",
              " 'fBodyGyro-Max-1                ',\n",
              " 'fBodyGyro-Max-2                ',\n",
              " 'fBodyGyro-Max-3                ',\n",
              " 'fBodyGyro-Min-1                ',\n",
              " 'fBodyGyro-Min-2                ',\n",
              " 'fBodyGyro-Min-3                ',\n",
              " 'fBodyGyro-SMA-1                ',\n",
              " 'fBodyGyro-Energy-1             ',\n",
              " 'fBodyGyro-Energy-2             ',\n",
              " 'fBodyGyro-Energy-3             ',\n",
              " 'fBodyGyro-IQR-1                ',\n",
              " 'fBodyGyro-IQR-2                ',\n",
              " 'fBodyGyro-IQR-3                ',\n",
              " 'fBodyGyro-ropy-1               ',\n",
              " 'fBodyGyro-ropy-1               ',\n",
              " 'fBodyGyro-ropy-1               ',\n",
              " 'fBodyGyro-MaxInds-1            ',\n",
              " 'fBodyGyro-MaxInds-2            ',\n",
              " 'fBodyGyro-MaxInds-3            ',\n",
              " 'fBodyGyro-MeanFreq-1           ',\n",
              " 'fBodyGyro-MeanFreq-2           ',\n",
              " 'fBodyGyro-MeanFreq-3           ',\n",
              " 'fBodyGyro-Skewness-1           ',\n",
              " 'fBodyGyro-Kurtosis-1           ',\n",
              " 'fBodyGyro-Skewness-1           ',\n",
              " 'fBodyGyro-Kurtosis-1           ',\n",
              " 'fBodyGyro-Skewness-1           ',\n",
              " 'fBodyGyro-Kurtosis-1           ',\n",
              " 'fBodyGyro-BandsEnergyOld-1     ',\n",
              " 'fBodyGyro-BandsEnergyOld-2     ',\n",
              " 'fBodyGyro-BandsEnergyOld-3     ',\n",
              " 'fBodyGyro-BandsEnergyOld-4     ',\n",
              " 'fBodyGyro-BandsEnergyOld-5     ',\n",
              " 'fBodyGyro-BandsEnergyOld-6     ',\n",
              " 'fBodyGyro-BandsEnergyOld-7     ',\n",
              " 'fBodyGyro-BandsEnergyOld-8     ',\n",
              " 'fBodyGyro-BandsEnergyOld-9     ',\n",
              " 'fBodyGyro-BandsEnergyOld-10    ',\n",
              " 'fBodyGyro-BandsEnergyOld-11    ',\n",
              " 'fBodyGyro-BandsEnergyOld-12    ',\n",
              " 'fBodyGyro-BandsEnergyOld-13    ',\n",
              " 'fBodyGyro-BandsEnergyOld-14    ',\n",
              " 'fBodyGyro-BandsEnergyOld-15    ',\n",
              " 'fBodyGyro-BandsEnergyOld-16    ',\n",
              " 'fBodyGyro-BandsEnergyOld-17    ',\n",
              " 'fBodyGyro-BandsEnergyOld-18    ',\n",
              " 'fBodyGyro-BandsEnergyOld-19    ',\n",
              " 'fBodyGyro-BandsEnergyOld-20    ',\n",
              " 'fBodyGyro-BandsEnergyOld-21    ',\n",
              " 'fBodyGyro-BandsEnergyOld-22    ',\n",
              " 'fBodyGyro-BandsEnergyOld-23    ',\n",
              " 'fBodyGyro-BandsEnergyOld-24    ',\n",
              " 'fBodyGyro-BandsEnergyOld-25    ',\n",
              " 'fBodyGyro-BandsEnergyOld-26    ',\n",
              " 'fBodyGyro-BandsEnergyOld-27    ',\n",
              " 'fBodyGyro-BandsEnergyOld-28    ',\n",
              " 'fBodyGyro-BandsEnergyOld-29    ',\n",
              " 'fBodyGyro-BandsEnergyOld-30    ',\n",
              " 'fBodyGyro-BandsEnergyOld-31    ',\n",
              " 'fBodyGyro-BandsEnergyOld-32    ',\n",
              " 'fBodyGyro-BandsEnergyOld-33    ',\n",
              " 'fBodyGyro-BandsEnergyOld-34    ',\n",
              " 'fBodyGyro-BandsEnergyOld-35    ',\n",
              " 'fBodyGyro-BandsEnergyOld-36    ',\n",
              " 'fBodyGyro-BandsEnergyOld-37    ',\n",
              " 'fBodyGyro-BandsEnergyOld-38    ',\n",
              " 'fBodyGyro-BandsEnergyOld-39    ',\n",
              " 'fBodyGyro-BandsEnergyOld-40    ',\n",
              " 'fBodyGyro-BandsEnergyOld-41    ',\n",
              " 'fBodyGyro-BandsEnergyOld-42    ',\n",
              " 'fBodyAccMag-Mean-1             ',\n",
              " 'fBodyAccMag-STD-1              ',\n",
              " 'fBodyAccMag-Mad-1              ',\n",
              " 'fBodyAccMag-Max-1              ',\n",
              " 'fBodyAccMag-Min-1              ',\n",
              " 'fBodyAccMag-SMA-1              ',\n",
              " 'fBodyAccMag-Energy-1           ',\n",
              " 'fBodyAccMag-IQR-1              ',\n",
              " 'fBodyAccMag-ropy-1             ',\n",
              " 'fBodyAccMag-MaxInds-1          ',\n",
              " 'fBodyAccMag-MeanFreq-1         ',\n",
              " 'fBodyAccMag-Skewness-1         ',\n",
              " 'fBodyAccMag-Kurtosis-1         ',\n",
              " 'fBodyAccJerkMag-Mean-1         ',\n",
              " 'fBodyAccJerkMag-STD-1          ',\n",
              " 'fBodyAccJerkMag-Mad-1          ',\n",
              " 'fBodyAccJerkMag-Max-1          ',\n",
              " 'fBodyAccJerkMag-Min-1          ',\n",
              " 'fBodyAccJerkMag-SMA-1          ',\n",
              " 'fBodyAccJerkMag-Energy-1       ',\n",
              " 'fBodyAccJerkMag-IQR-1          ',\n",
              " 'fBodyAccJerkMag-ropy-1         ',\n",
              " 'fBodyAccJerkMag-MaxInds-1      ',\n",
              " 'fBodyAccJerkMag-MeanFreq-1     ',\n",
              " 'fBodyAccJerkMag-Skewness-1     ',\n",
              " 'fBodyAccJerkMag-Kurtosis-1     ',\n",
              " 'fBodyGyroMag-Mean-1            ',\n",
              " 'fBodyGyroMag-STD-1             ',\n",
              " 'fBodyGyroMag-Mad-1             ',\n",
              " 'fBodyGyroMag-Max-1             ',\n",
              " 'fBodyGyroMag-Min-1             ',\n",
              " 'fBodyGyroMag-SMA-1             ',\n",
              " 'fBodyGyroMag-Energy-1          ',\n",
              " 'fBodyGyroMag-IQR-1             ',\n",
              " 'fBodyGyroMag-ropy-1            ',\n",
              " 'fBodyGyroMag-MaxInds-1         ',\n",
              " 'fBodyGyroMag-MeanFreq-1        ',\n",
              " 'fBodyGyroMag-Skewness-1        ',\n",
              " 'fBodyGyroMag-Kurtosis-1        ',\n",
              " 'fBodyGyroJerkMag-Mean-1        ',\n",
              " 'fBodyGyroJerkMag-STD-1         ',\n",
              " 'fBodyGyroJerkMag-Mad-1         ',\n",
              " 'fBodyGyroJerkMag-Max-1         ',\n",
              " 'fBodyGyroJerkMag-Min-1         ',\n",
              " 'fBodyGyroJerkMag-SMA-1         ',\n",
              " 'fBodyGyroJerkMag-Energy-1      ',\n",
              " 'fBodyGyroJerkMag-IQR-1         ',\n",
              " 'fBodyGyroJerkMag-ropy-1        ',\n",
              " 'fBodyGyroJerkMag-MaxInds-1     ',\n",
              " 'fBodyGyroJerkMag-MeanFreq-1    ',\n",
              " 'fBodyGyroJerkMag-Skewness-1    ',\n",
              " 'fBodyGyroJerkMag-Kurtosis-1    ',\n",
              " 'tBodyAcc-AngleWRTGravity-1     ',\n",
              " 'tBodyAccJerk-AngleWRTGravity-1 ',\n",
              " 'tBodyGyro-AngleWRTGravity-1    ',\n",
              " 'tBodyGyroJerk-AngleWRTGravity-1',\n",
              " 'tXAxisAcc-AngleWRTGravity-1    ',\n",
              " 'tYAxisAcc-AngleWRTGravity-1    ',\n",
              " 'tZAxisAcc-AngleWRTGravity-1    ']"
            ]
          },
          "metadata": {
            "tags": []
          },
          "execution_count": 74
        }
      ]
    },
    {
      "cell_type": "markdown",
      "metadata": {
        "id": "JnCr3WJEMRUk",
        "colab_type": "text"
      },
      "source": [
        "### (d) Plotting random feaures for visualization"
      ]
    },
    {
      "cell_type": "code",
      "metadata": {
        "id": "OR3PFdbeL0xf",
        "colab_type": "code",
        "colab": {
          "base_uri": "https://localhost:8080/",
          "height": 312
        },
        "outputId": "259ded8e-eeba-405e-d03a-1e9633de0bc5"
      },
      "source": [
        "feat_rand_num = []\n",
        "for i in range(17):\n",
        "  random.seed(i)\n",
        "  feat_rand_num.append(random.randint(0, len(feature_list)))\n",
        "feat_rand_num"
      ],
      "execution_count": 79,
      "outputs": [
        {
          "output_type": "execute_result",
          "data": {
            "text/plain": [
              "[394,\n",
              " 137,\n",
              " 57,\n",
              " 243,\n",
              " 241,\n",
              " 261,\n",
              " 82,\n",
              " 331,\n",
              " 232,\n",
              " 474,\n",
              " 33,\n",
              " 463,\n",
              " 485,\n",
              " 265,\n",
              " 109,\n",
              " 213,\n",
              " 370]"
            ]
          },
          "metadata": {
            "tags": []
          },
          "execution_count": 79
        }
      ]
    },
    {
      "cell_type": "code",
      "metadata": {
        "id": "jrCeXqRaL05K",
        "colab_type": "code",
        "colab": {
          "base_uri": "https://localhost:8080/",
          "height": 1000
        },
        "outputId": "3c15aebc-c56c-4ac4-a1e9-5f0cd8adb3f9"
      },
      "source": [
        "fig, axs = plt.subplots(6, 3, figsize=(18,18))\n",
        "for i in range(17):\n",
        "    plt.subplot(6,3,i+1)\n",
        "    plt.ylabel(feature_list[feat_rand_num[i]])\n",
        "    df3 = X_train[:,feat_rand_num[i]]\n",
        "    plt.hist(df3)"
      ],
      "execution_count": 80,
      "outputs": [
        {
          "output_type": "display_data",
          "data": {
            "image/png": "[encoded data removed]",
            "text/plain": [
              "<Figure size 1296x1296 with 18 Axes>"
            ]
          },
          "metadata": {
            "tags": [],
            "needs_background": "light"
          }
        }
      ]
    },
    {
      "cell_type": "markdown",
      "metadata": {
        "id": "c1_hz4azbLGt",
        "colab_type": "text"
      },
      "source": [
        "### Data Exploration - Pearson's correlation"
      ]
    },
    {
      "cell_type": "code",
      "metadata": {
        "id": "nFy3tu8EBVM7",
        "colab_type": "code",
        "colab": {
          "base_uri": "https://localhost:8080/",
          "height": 1000
        },
        "outputId": "24f2ddb6-2120-43a9-9374-3d762413a9d9"
      },
      "source": [
        "for i in range(15):\n",
        "    for k in range(15):\n",
        "        if((feature_list[feat_rand_num[i]]!=feature_list[feat_rand_num[k]]) and (i<k)):\n",
        "          print(feature_list[feat_rand_num[i]],feature_list[feat_rand_num[k]],pearsonr(X_train[:,feat_rand_num[i]],X_train[:,feat_rand_num[k]])[0])"
      ],
      "execution_count": 82,
      "outputs": [
        {
          "output_type": "stream",
          "text": [
            "fBodyAccJerk-BandsEnergyOld-14  tBodyGyro-Energy-2              0.5327460089139832\n",
            "fBodyAccJerk-BandsEnergyOld-14  tGravityAcc-Energy-2            -0.23928350805256868\n",
            "fBodyAccJerk-BandsEnergyOld-14  tBodyGyroMag-Min-1              0.4975632387886891\n",
            "fBodyAccJerk-BandsEnergyOld-14  tBodyGyroMag-Mad-1              0.6489282317487536\n",
            "fBodyAccJerk-BandsEnergyOld-14  tBodyGyroJerkMag-ARCoeff-1      -0.04195020188607894\n",
            "fBodyAccJerk-BandsEnergyOld-14  tBodyAccJerk-Mean-3             -0.019224526536639048\n",
            "fBodyAccJerk-BandsEnergyOld-14  fBodyAcc-BandsEnergyOld-30      0.5805569167492097\n",
            "fBodyAccJerk-BandsEnergyOld-14  tBodyAccJerkMag-Energy-1        0.8950251706412384\n",
            "fBodyAccJerk-BandsEnergyOld-14  fBodyGyro-BandsEnergyOld-15     0.3878795625504608\n",
            "fBodyAccJerk-BandsEnergyOld-14  tBodyAcc-ARCoeff-9              -0.18452723583113415\n",
            "fBodyAccJerk-BandsEnergyOld-14  fBodyGyro-BandsEnergyOld-4      0.6354156259231525\n",
            "fBodyAccJerk-BandsEnergyOld-14  fBodyGyro-BandsEnergyOld-26     0.5162253030074304\n",
            "fBodyAccJerk-BandsEnergyOld-14  fBodyAcc-Mean-1                 0.8212554471261302\n",
            "fBodyAccJerk-BandsEnergyOld-14  tBodyAccJerk-ARCoeff-5          -0.34408041615484364\n",
            "tBodyGyro-Energy-2              tGravityAcc-Energy-2            -0.20453355701645617\n",
            "tBodyGyro-Energy-2              tBodyGyroMag-Min-1              0.604995599984472\n",
            "tBodyGyro-Energy-2              tBodyGyroMag-Mad-1              0.807120850801477\n",
            "tBodyGyro-Energy-2              tBodyGyroJerkMag-ARCoeff-1      -0.15021911302522292\n",
            "tBodyGyro-Energy-2              tBodyAccJerk-Mean-3             0.015702405925700578\n",
            "tBodyGyro-Energy-2              fBodyAcc-BandsEnergyOld-30      0.6761907670799332\n",
            "tBodyGyro-Energy-2              tBodyAccJerkMag-Energy-1        0.6803334534832408\n",
            "tBodyGyro-Energy-2              fBodyGyro-BandsEnergyOld-15     0.869263849246371\n",
            "tBodyGyro-Energy-2              tBodyAcc-ARCoeff-9              -0.35582854300140554\n",
            "tBodyGyro-Energy-2              fBodyGyro-BandsEnergyOld-4      0.48849722465303047\n",
            "tBodyGyro-Energy-2              fBodyGyro-BandsEnergyOld-26     0.6369984294372495\n",
            "tBodyGyro-Energy-2              fBodyAcc-Mean-1                 0.6651949108720551\n",
            "tBodyGyro-Energy-2              tBodyAccJerk-ARCoeff-5          -0.3835734255110445\n",
            "tGravityAcc-Energy-2            tBodyGyroMag-Min-1              -0.2187429033365079\n",
            "tGravityAcc-Energy-2            tBodyGyroMag-Mad-1              -0.2731476085667659\n",
            "tGravityAcc-Energy-2            tBodyGyroJerkMag-ARCoeff-1      0.19275659470666318\n",
            "tGravityAcc-Energy-2            tBodyAccJerk-Mean-3             -0.00865776113986622\n",
            "tGravityAcc-Energy-2            fBodyAcc-BandsEnergyOld-30      -0.22570331648938588\n",
            "tGravityAcc-Energy-2            tBodyAccJerkMag-Energy-1        -0.28188782640043\n",
            "tGravityAcc-Energy-2            fBodyGyro-BandsEnergyOld-15     -0.1752417341136456\n",
            "tGravityAcc-Energy-2            tBodyAcc-ARCoeff-9              0.2653696990529844\n",
            "tGravityAcc-Energy-2            fBodyGyro-BandsEnergyOld-4      -0.1782453122963361\n",
            "tGravityAcc-Energy-2            fBodyGyro-BandsEnergyOld-26     -0.15666993571888846\n",
            "tGravityAcc-Energy-2            fBodyAcc-Mean-1                 -0.303437906907685\n",
            "tGravityAcc-Energy-2            tBodyAccJerk-ARCoeff-5          0.30376852412277144\n",
            "tBodyGyroMag-Min-1              tBodyGyroMag-Mad-1              0.6956486984443851\n",
            "tBodyGyroMag-Min-1              tBodyGyroJerkMag-ARCoeff-1      -0.20541314921025633\n",
            "tBodyGyroMag-Min-1              tBodyAccJerk-Mean-3             0.04610568641904508\n",
            "tBodyGyroMag-Min-1              fBodyAcc-BandsEnergyOld-30      0.4816107262488559\n",
            "tBodyGyroMag-Min-1              tBodyAccJerkMag-Energy-1        0.5803455417368005\n",
            "tBodyGyroMag-Min-1              fBodyGyro-BandsEnergyOld-15     0.5691047331452685\n",
            "tBodyGyroMag-Min-1              tBodyAcc-ARCoeff-9              -0.4779312482447873\n",
            "tBodyGyroMag-Min-1              fBodyGyro-BandsEnergyOld-4      0.3943633447092589\n",
            "tBodyGyroMag-Min-1              fBodyGyro-BandsEnergyOld-26     0.3801305564044287\n",
            "tBodyGyroMag-Min-1              fBodyAcc-Mean-1                 0.704015749436348\n",
            "tBodyGyroMag-Min-1              tBodyAccJerk-ARCoeff-5          -0.48266662579007347\n",
            "tBodyGyroMag-Mad-1              tBodyGyroJerkMag-ARCoeff-1      -0.2857387331483193\n",
            "tBodyGyroMag-Mad-1              tBodyAccJerk-Mean-3             0.01403342836501667\n",
            "tBodyGyroMag-Mad-1              fBodyAcc-BandsEnergyOld-30      0.6434911783266192\n",
            "tBodyGyroMag-Mad-1              tBodyAccJerkMag-Energy-1        0.7641335933344665\n",
            "tBodyGyroMag-Mad-1              fBodyGyro-BandsEnergyOld-15     0.7207528752845591\n",
            "tBodyGyroMag-Mad-1              tBodyAcc-ARCoeff-9              -0.5519898674930073\n",
            "tBodyGyroMag-Mad-1              fBodyGyro-BandsEnergyOld-4      0.5568535679216569\n",
            "tBodyGyroMag-Mad-1              fBodyGyro-BandsEnergyOld-26     0.5406676244424614\n",
            "tBodyGyroMag-Mad-1              fBodyAcc-Mean-1                 0.8553876826926783\n",
            "tBodyGyroMag-Mad-1              tBodyAccJerk-ARCoeff-5          -0.5976386739641292\n",
            "tBodyGyroJerkMag-ARCoeff-1      tBodyAccJerk-Mean-3             -0.0072364387168564765\n",
            "tBodyGyroJerkMag-ARCoeff-1      fBodyAcc-BandsEnergyOld-30      -0.038680436753083164\n",
            "tBodyGyroJerkMag-ARCoeff-1      tBodyAccJerkMag-Energy-1        -0.0636715554632167\n",
            "tBodyGyroJerkMag-ARCoeff-1      fBodyGyro-BandsEnergyOld-15     -0.2413933921436552\n",
            "tBodyGyroJerkMag-ARCoeff-1      tBodyAcc-ARCoeff-9              0.405729189024159\n",
            "tBodyGyroJerkMag-ARCoeff-1      fBodyGyro-BandsEnergyOld-4      -0.01914679689933844\n",
            "tBodyGyroJerkMag-ARCoeff-1      fBodyGyro-BandsEnergyOld-26     -0.008924841470987375\n",
            "tBodyGyroJerkMag-ARCoeff-1      fBodyAcc-Mean-1                 -0.17377954468157283\n",
            "tBodyGyroJerkMag-ARCoeff-1      tBodyAccJerk-ARCoeff-5          0.42522417040844285\n",
            "tBodyAccJerk-Mean-3             fBodyAcc-BandsEnergyOld-30      -0.02582589786734655\n",
            "tBodyAccJerk-Mean-3             tBodyAccJerkMag-Energy-1        -0.020270268332681897\n",
            "tBodyAccJerk-Mean-3             fBodyGyro-BandsEnergyOld-15     0.03991934002596505\n",
            "tBodyAccJerk-Mean-3             tBodyAcc-ARCoeff-9              0.0023435283447852265\n",
            "tBodyAccJerk-Mean-3             fBodyGyro-BandsEnergyOld-4      -0.005180216816920662\n",
            "tBodyAccJerk-Mean-3             fBodyGyro-BandsEnergyOld-26     0.002208287904421132\n",
            "tBodyAccJerk-Mean-3             fBodyAcc-Mean-1                 -0.01295852933939655\n",
            "tBodyAccJerk-Mean-3             tBodyAccJerk-ARCoeff-5          0.006326700291818701\n",
            "fBodyAcc-BandsEnergyOld-30      tBodyAccJerkMag-Energy-1        0.7598066834906118\n",
            "fBodyAcc-BandsEnergyOld-30      fBodyGyro-BandsEnergyOld-15     0.38441881703378317\n",
            "fBodyAcc-BandsEnergyOld-30      tBodyAcc-ARCoeff-9              -0.3057796138758794\n",
            "fBodyAcc-BandsEnergyOld-30      fBodyGyro-BandsEnergyOld-4      0.5096313025201731\n",
            "fBodyAcc-BandsEnergyOld-30      fBodyGyro-BandsEnergyOld-26     0.5923871882724829\n",
            "fBodyAcc-BandsEnergyOld-30      fBodyAcc-Mean-1                 0.6846171793268047\n",
            "fBodyAcc-BandsEnergyOld-30      tBodyAccJerk-ARCoeff-5          -0.32694639109521256\n",
            "tBodyAccJerkMag-Energy-1        fBodyGyro-BandsEnergyOld-15     0.4560398054567424\n",
            "tBodyAccJerkMag-Energy-1        tBodyAcc-ARCoeff-9              -0.27757568979211555\n",
            "tBodyAccJerkMag-Energy-1        fBodyGyro-BandsEnergyOld-4      0.716233742893794\n",
            "tBodyAccJerkMag-Energy-1        fBodyGyro-BandsEnergyOld-26     0.620645376575892\n",
            "tBodyAccJerkMag-Energy-1        fBodyAcc-Mean-1                 0.9073619926473767\n",
            "tBodyAccJerkMag-Energy-1        tBodyAccJerk-ARCoeff-5          -0.4229111995845932\n",
            "fBodyGyro-BandsEnergyOld-15     tBodyAcc-ARCoeff-9              -0.37369068419765444\n",
            "fBodyGyro-BandsEnergyOld-15     fBodyGyro-BandsEnergyOld-4      0.27258862605147527\n",
            "fBodyGyro-BandsEnergyOld-15     fBodyGyro-BandsEnergyOld-26     0.3967570359555424\n",
            "fBodyGyro-BandsEnergyOld-15     fBodyAcc-Mean-1                 0.5482142538338968\n",
            "fBodyGyro-BandsEnergyOld-15     tBodyAccJerk-ARCoeff-5          -0.3690406263401355\n",
            "tBodyAcc-ARCoeff-9              fBodyGyro-BandsEnergyOld-4      -0.14923646257337178\n",
            "tBodyAcc-ARCoeff-9              fBodyGyro-BandsEnergyOld-26     -0.17270481549099534\n",
            "tBodyAcc-ARCoeff-9              fBodyAcc-Mean-1                 -0.4613414735928492\n",
            "tBodyAcc-ARCoeff-9              tBodyAccJerk-ARCoeff-5          0.6078103416358469\n",
            "fBodyGyro-BandsEnergyOld-4      fBodyGyro-BandsEnergyOld-26     0.46399894060606794\n",
            "fBodyGyro-BandsEnergyOld-4      fBodyAcc-Mean-1                 0.6048807175147467\n",
            "fBodyGyro-BandsEnergyOld-4      tBodyAccJerk-ARCoeff-5          -0.283581740647537\n",
            "fBodyGyro-BandsEnergyOld-26     fBodyAcc-Mean-1                 0.529057538591634\n",
            "fBodyGyro-BandsEnergyOld-26     tBodyAccJerk-ARCoeff-5          -0.24540381315909987\n",
            "fBodyAcc-Mean-1                 tBodyAccJerk-ARCoeff-5          -0.5589613151279109\n"
          ],
          "name": "stdout"
        }
      ]
    },
    {
      "cell_type": "code",
      "metadata": {
        "id": "UAPjk9wkYVns",
        "colab_type": "code",
        "colab": {}
      },
      "source": [
        "def accuracy(y,Y_pred):\n",
        "  count = 0\n",
        "  for i,val in enumerate(y):\n",
        "    if (val == Y_pred[i]):\n",
        "      count = count + 1\n",
        "  accuracy = count/y.shape[0]\n",
        "  return accuracy"
      ],
      "execution_count": 0,
      "outputs": []
    },
    {
      "cell_type": "markdown",
      "metadata": {
        "id": "YyV7XyMMW12m",
        "colab_type": "text"
      },
      "source": [
        "### (b) Problem formulation"
      ]
    },
    {
      "cell_type": "code",
      "metadata": {
        "id": "8Hyy4EZKYS7v",
        "colab_type": "code",
        "colab": {
          "base_uri": "https://localhost:8080/",
          "height": 34
        },
        "outputId": "86e0a436-4551-4dcf-cda5-334990019175"
      },
      "source": [
        "clf = LogisticRegression()\n",
        "clf.fit(X_train,Y_train)\n",
        "y_pred_dev = clf.predict(X_test)\n",
        "acc = accuracy(Y_test,y_pred_dev)\n",
        "acc"
      ],
      "execution_count": 16,
      "outputs": [
        {
          "output_type": "execute_result",
          "data": {
            "text/plain": [
              "0.9780420860018298"
            ]
          },
          "metadata": {
            "tags": []
          },
          "execution_count": 16
        }
      ]
    },
    {
      "cell_type": "code",
      "metadata": {
        "id": "N3qw26C6W7J1",
        "colab_type": "code",
        "colab": {
          "base_uri": "https://localhost:8080/",
          "height": 381
        },
        "outputId": "21a182fa-3387-4d5d-a9f7-e810543aa79f"
      },
      "source": [
        "import warnings\n",
        "warnings.filterwarnings(\"ignore\")  # Ignore some warning logs\n",
        "\n",
        "\n",
        "from keras.models import Sequential\n",
        "from keras.layers import Dense, Dropout\n",
        "\n",
        "\n",
        "#  Define a Feed-Forward Model with 2 hidden layers with dimensions 392 and 196 Neurons\n",
        "model = Sequential([\n",
        "  Dense(50, activation='relu', input_shape=(561,), name=\"first_hidden_layer\"),\n",
        "  Dense(100, activation='relu', name=\"second_hidden_layer\"), \n",
        "  Dense(100,activation= 'relu',name = \"third_hidden_layer\"),\n",
        "  Dense(100,activation= 'relu',name = \"forth_hidden_layer\"),\n",
        "  Dense(100,activation= 'relu',name = \"fifth_hidden_layer\"),\n",
        "  Dense(13, activation='softmax'),\n",
        "])\n",
        "\n",
        "#  Validate your Model Architecture\n",
        "print(model.summary())"
      ],
      "execution_count": 24,
      "outputs": [
        {
          "output_type": "stream",
          "text": [
            "Model: \"sequential_3\"\n",
            "_________________________________________________________________\n",
            "Layer (type)                 Output Shape              Param #   \n",
            "=================================================================\n",
            "first_hidden_layer (Dense)   (None, 50)                28100     \n",
            "_________________________________________________________________\n",
            "second_hidden_layer (Dense)  (None, 100)               5100      \n",
            "_________________________________________________________________\n",
            "third_hidden_layer (Dense)   (None, 100)               10100     \n",
            "_________________________________________________________________\n",
            "forth_hidden_layer (Dense)   (None, 100)               10100     \n",
            "_________________________________________________________________\n",
            "fifth_hidden_layer (Dense)   (None, 100)               10100     \n",
            "_________________________________________________________________\n",
            "dense_3 (Dense)              (None, 13)                1313      \n",
            "=================================================================\n",
            "Total params: 64,813\n",
            "Trainable params: 64,813\n",
            "Non-trainable params: 0\n",
            "_________________________________________________________________\n",
            "None\n"
          ],
          "name": "stdout"
        }
      ]
    },
    {
      "cell_type": "code",
      "metadata": {
        "id": "kXBXiEqPXd-y",
        "colab_type": "code",
        "colab": {
          "base_uri": "https://localhost:8080/",
          "height": 1000
        },
        "outputId": "4ba1c20c-89a8-4b62-b8ba-83fa1f1f877c"
      },
      "source": [
        "# Compile model\n",
        "model.compile(optimizer='sgd', loss='categorical_crossentropy',metrics=['accuracy'],)\n",
        "\n",
        "# Train model\n",
        "model.fit(X_train, y_train_cat, epochs=100, batch_size=256,)"
      ],
      "execution_count": 26,
      "outputs": [
        {
          "output_type": "stream",
          "text": [
            "Epoch 1/100\n",
            "8742/8742 [==============================] - 0s 26us/step - loss: 0.2142 - accuracy: 0.9128\n",
            "Epoch 2/100\n",
            "8742/8742 [==============================] - 0s 18us/step - loss: 0.2139 - accuracy: 0.9157\n",
            "Epoch 3/100\n",
            "8742/8742 [==============================] - 0s 18us/step - loss: 0.2246 - accuracy: 0.9084\n",
            "Epoch 4/100\n",
            "8742/8742 [==============================] - 0s 18us/step - loss: 0.1987 - accuracy: 0.9213\n",
            "Epoch 5/100\n",
            "8742/8742 [==============================] - 0s 18us/step - loss: 0.2109 - accuracy: 0.9152\n",
            "Epoch 6/100\n",
            "8742/8742 [==============================] - 0s 18us/step - loss: 0.2128 - accuracy: 0.9123\n",
            "Epoch 7/100\n",
            "8742/8742 [==============================] - 0s 18us/step - loss: 0.2038 - accuracy: 0.9192\n",
            "Epoch 8/100\n",
            "8742/8742 [==============================] - 0s 18us/step - loss: 0.2205 - accuracy: 0.9179\n",
            "Epoch 9/100\n",
            "8742/8742 [==============================] - 0s 18us/step - loss: 0.1895 - accuracy: 0.9277\n",
            "Epoch 10/100\n",
            "8742/8742 [==============================] - 0s 18us/step - loss: 0.2098 - accuracy: 0.9180\n",
            "Epoch 11/100\n",
            "8742/8742 [==============================] - 0s 19us/step - loss: 0.2100 - accuracy: 0.9171\n",
            "Epoch 12/100\n",
            "8742/8742 [==============================] - 0s 17us/step - loss: 0.1775 - accuracy: 0.9296\n",
            "Epoch 13/100\n",
            "8742/8742 [==============================] - 0s 18us/step - loss: 0.1868 - accuracy: 0.9299\n",
            "Epoch 14/100\n",
            "8742/8742 [==============================] - 0s 18us/step - loss: 0.2145 - accuracy: 0.9146\n",
            "Epoch 15/100\n",
            "8742/8742 [==============================] - 0s 17us/step - loss: 0.1931 - accuracy: 0.9235\n",
            "Epoch 16/100\n",
            "8742/8742 [==============================] - 0s 18us/step - loss: 0.2042 - accuracy: 0.9170\n",
            "Epoch 17/100\n",
            "8742/8742 [==============================] - 0s 18us/step - loss: 0.1891 - accuracy: 0.9235\n",
            "Epoch 18/100\n",
            "8742/8742 [==============================] - 0s 18us/step - loss: 0.1680 - accuracy: 0.9335\n",
            "Epoch 19/100\n",
            "8742/8742 [==============================] - 0s 18us/step - loss: 0.1810 - accuracy: 0.9276\n",
            "Epoch 20/100\n",
            "8742/8742 [==============================] - 0s 18us/step - loss: 0.1853 - accuracy: 0.9266\n",
            "Epoch 21/100\n",
            "8742/8742 [==============================] - 0s 18us/step - loss: 0.1553 - accuracy: 0.9430\n",
            "Epoch 22/100\n",
            "8742/8742 [==============================] - 0s 17us/step - loss: 0.1976 - accuracy: 0.9242\n",
            "Epoch 23/100\n",
            "8742/8742 [==============================] - 0s 18us/step - loss: 0.1814 - accuracy: 0.9291\n",
            "Epoch 24/100\n",
            "8742/8742 [==============================] - 0s 18us/step - loss: 0.1771 - accuracy: 0.9334\n",
            "Epoch 25/100\n",
            "8742/8742 [==============================] - 0s 18us/step - loss: 0.1664 - accuracy: 0.9388\n",
            "Epoch 26/100\n",
            "8742/8742 [==============================] - 0s 18us/step - loss: 0.2045 - accuracy: 0.9204\n",
            "Epoch 27/100\n",
            "8742/8742 [==============================] - 0s 18us/step - loss: 0.1494 - accuracy: 0.9445\n",
            "Epoch 28/100\n",
            "8742/8742 [==============================] - 0s 18us/step - loss: 0.1891 - accuracy: 0.9255\n",
            "Epoch 29/100\n",
            "8742/8742 [==============================] - 0s 18us/step - loss: 0.1552 - accuracy: 0.9386\n",
            "Epoch 30/100\n",
            "8742/8742 [==============================] - 0s 18us/step - loss: 0.1695 - accuracy: 0.9316\n",
            "Epoch 31/100\n",
            "8742/8742 [==============================] - 0s 18us/step - loss: 0.1401 - accuracy: 0.9459\n",
            "Epoch 32/100\n",
            "8742/8742 [==============================] - 0s 18us/step - loss: 0.1833 - accuracy: 0.9246\n",
            "Epoch 33/100\n",
            "8742/8742 [==============================] - 0s 17us/step - loss: 0.1706 - accuracy: 0.9362\n",
            "Epoch 34/100\n",
            "8742/8742 [==============================] - 0s 18us/step - loss: 0.1866 - accuracy: 0.9239\n",
            "Epoch 35/100\n",
            "8742/8742 [==============================] - 0s 18us/step - loss: 0.1605 - accuracy: 0.9386\n",
            "Epoch 36/100\n",
            "8742/8742 [==============================] - 0s 18us/step - loss: 0.1396 - accuracy: 0.9494\n",
            "Epoch 37/100\n",
            "8742/8742 [==============================] - 0s 18us/step - loss: 0.1595 - accuracy: 0.9394\n",
            "Epoch 38/100\n",
            "8742/8742 [==============================] - 0s 18us/step - loss: 0.1572 - accuracy: 0.9377\n",
            "Epoch 39/100\n",
            "8742/8742 [==============================] - 0s 18us/step - loss: 0.1662 - accuracy: 0.9319\n",
            "Epoch 40/100\n",
            "8742/8742 [==============================] - 0s 18us/step - loss: 0.1629 - accuracy: 0.9380\n",
            "Epoch 41/100\n",
            "8742/8742 [==============================] - 0s 18us/step - loss: 0.1571 - accuracy: 0.9389\n",
            "Epoch 42/100\n",
            "8742/8742 [==============================] - 0s 18us/step - loss: 0.1495 - accuracy: 0.9421\n",
            "Epoch 43/100\n",
            "8742/8742 [==============================] - 0s 18us/step - loss: 0.1285 - accuracy: 0.9521\n",
            "Epoch 44/100\n",
            "8742/8742 [==============================] - 0s 18us/step - loss: 0.1504 - accuracy: 0.9417\n",
            "Epoch 45/100\n",
            "8742/8742 [==============================] - 0s 19us/step - loss: 0.1782 - accuracy: 0.9300\n",
            "Epoch 46/100\n",
            "8742/8742 [==============================] - 0s 18us/step - loss: 0.1446 - accuracy: 0.9447\n",
            "Epoch 47/100\n",
            "8742/8742 [==============================] - 0s 18us/step - loss: 0.1426 - accuracy: 0.9478\n",
            "Epoch 48/100\n",
            "8742/8742 [==============================] - 0s 17us/step - loss: 0.1495 - accuracy: 0.9438\n",
            "Epoch 49/100\n",
            "8742/8742 [==============================] - 0s 18us/step - loss: 0.7199 - accuracy: 0.8767\n",
            "Epoch 50/100\n",
            "8742/8742 [==============================] - 0s 18us/step - loss: 0.1502 - accuracy: 0.9501\n",
            "Epoch 51/100\n",
            "8742/8742 [==============================] - 0s 18us/step - loss: 0.1360 - accuracy: 0.9514\n",
            "Epoch 52/100\n",
            "8742/8742 [==============================] - 0s 19us/step - loss: 0.1539 - accuracy: 0.9394\n",
            "Epoch 53/100\n",
            "8742/8742 [==============================] - 0s 18us/step - loss: 0.1679 - accuracy: 0.9349\n",
            "Epoch 54/100\n",
            "8742/8742 [==============================] - 0s 18us/step - loss: 0.1359 - accuracy: 0.9461\n",
            "Epoch 55/100\n",
            "8742/8742 [==============================] - 0s 18us/step - loss: 0.1275 - accuracy: 0.9513\n",
            "Epoch 56/100\n",
            "8742/8742 [==============================] - 0s 18us/step - loss: 0.1733 - accuracy: 0.9338\n",
            "Epoch 57/100\n",
            "8742/8742 [==============================] - 0s 19us/step - loss: 0.1618 - accuracy: 0.9361\n",
            "Epoch 58/100\n",
            "8742/8742 [==============================] - 0s 17us/step - loss: 0.1398 - accuracy: 0.9477\n",
            "Epoch 59/100\n",
            "8742/8742 [==============================] - 0s 18us/step - loss: 0.1418 - accuracy: 0.9443\n",
            "Epoch 60/100\n",
            "8742/8742 [==============================] - 0s 18us/step - loss: 0.1313 - accuracy: 0.9498\n",
            "Epoch 61/100\n",
            "8742/8742 [==============================] - 0s 18us/step - loss: 0.1266 - accuracy: 0.9525\n",
            "Epoch 62/100\n",
            "8742/8742 [==============================] - 0s 18us/step - loss: 0.1512 - accuracy: 0.9418\n",
            "Epoch 63/100\n",
            "8742/8742 [==============================] - 0s 18us/step - loss: 0.1172 - accuracy: 0.9556\n",
            "Epoch 64/100\n",
            "8742/8742 [==============================] - 0s 18us/step - loss: 0.1542 - accuracy: 0.9413\n",
            "Epoch 65/100\n",
            "8742/8742 [==============================] - 0s 18us/step - loss: 0.1130 - accuracy: 0.9595\n",
            "Epoch 66/100\n",
            "8742/8742 [==============================] - 0s 18us/step - loss: 0.1402 - accuracy: 0.9509\n",
            "Epoch 67/100\n",
            "8742/8742 [==============================] - 0s 18us/step - loss: 0.1193 - accuracy: 0.9556\n",
            "Epoch 68/100\n",
            "8742/8742 [==============================] - 0s 18us/step - loss: 0.1442 - accuracy: 0.9438\n",
            "Epoch 69/100\n",
            "8742/8742 [==============================] - 0s 19us/step - loss: 0.1127 - accuracy: 0.9589\n",
            "Epoch 70/100\n",
            "8742/8742 [==============================] - 0s 17us/step - loss: 0.1566 - accuracy: 0.9403\n",
            "Epoch 71/100\n",
            "8742/8742 [==============================] - 0s 18us/step - loss: 0.1414 - accuracy: 0.9449\n",
            "Epoch 72/100\n",
            "8742/8742 [==============================] - 0s 18us/step - loss: 0.1150 - accuracy: 0.9545\n",
            "Epoch 73/100\n",
            "8742/8742 [==============================] - 0s 18us/step - loss: 0.1149 - accuracy: 0.9577\n",
            "Epoch 74/100\n",
            "8742/8742 [==============================] - 0s 18us/step - loss: 0.1558 - accuracy: 0.9378\n",
            "Epoch 75/100\n",
            "8742/8742 [==============================] - 0s 18us/step - loss: 0.1150 - accuracy: 0.9553\n",
            "Epoch 76/100\n",
            "8742/8742 [==============================] - 0s 18us/step - loss: 0.1416 - accuracy: 0.9498\n",
            "Epoch 77/100\n",
            "8742/8742 [==============================] - 0s 18us/step - loss: 0.1029 - accuracy: 0.9618\n",
            "Epoch 78/100\n",
            "8742/8742 [==============================] - 0s 17us/step - loss: 0.1099 - accuracy: 0.9587\n",
            "Epoch 79/100\n",
            "8742/8742 [==============================] - 0s 18us/step - loss: 0.1442 - accuracy: 0.9409\n",
            "Epoch 80/100\n",
            "8742/8742 [==============================] - 0s 18us/step - loss: 0.1067 - accuracy: 0.9594\n",
            "Epoch 81/100\n",
            "8742/8742 [==============================] - 0s 18us/step - loss: 0.1498 - accuracy: 0.9390\n",
            "Epoch 82/100\n",
            "8742/8742 [==============================] - 0s 18us/step - loss: 0.1303 - accuracy: 0.9499\n",
            "Epoch 83/100\n",
            "8742/8742 [==============================] - 0s 18us/step - loss: 0.1111 - accuracy: 0.9576\n",
            "Epoch 84/100\n",
            "8742/8742 [==============================] - 0s 18us/step - loss: 0.1099 - accuracy: 0.9580\n",
            "Epoch 85/100\n",
            "8742/8742 [==============================] - 0s 18us/step - loss: 0.1175 - accuracy: 0.9544\n",
            "Epoch 86/100\n",
            "8742/8742 [==============================] - 0s 18us/step - loss: 0.1108 - accuracy: 0.9581\n",
            "Epoch 87/100\n",
            "8742/8742 [==============================] - 0s 18us/step - loss: 0.1099 - accuracy: 0.9558\n",
            "Epoch 88/100\n",
            "8742/8742 [==============================] - 0s 18us/step - loss: 0.1245 - accuracy: 0.9510\n",
            "Epoch 89/100\n",
            "8742/8742 [==============================] - 0s 18us/step - loss: 0.1196 - accuracy: 0.9553\n",
            "Epoch 90/100\n",
            "8742/8742 [==============================] - 0s 18us/step - loss: 0.1331 - accuracy: 0.9496\n",
            "Epoch 91/100\n",
            "8742/8742 [==============================] - 0s 18us/step - loss: 0.0979 - accuracy: 0.9643\n",
            "Epoch 92/100\n",
            "8742/8742 [==============================] - 0s 18us/step - loss: 0.1318 - accuracy: 0.9507\n",
            "Epoch 93/100\n",
            "8742/8742 [==============================] - 0s 18us/step - loss: 0.1048 - accuracy: 0.9597\n",
            "Epoch 94/100\n",
            "8742/8742 [==============================] - 0s 18us/step - loss: 0.0979 - accuracy: 0.9635\n",
            "Epoch 95/100\n",
            "8742/8742 [==============================] - 0s 18us/step - loss: 0.1056 - accuracy: 0.9604\n",
            "Epoch 96/100\n",
            "8742/8742 [==============================] - 0s 18us/step - loss: 0.1282 - accuracy: 0.9522\n",
            "Epoch 97/100\n",
            "8742/8742 [==============================] - 0s 18us/step - loss: 0.1000 - accuracy: 0.9616\n",
            "Epoch 98/100\n",
            "8742/8742 [==============================] - 0s 18us/step - loss: 0.1587 - accuracy: 0.9372\n",
            "Epoch 99/100\n",
            "8742/8742 [==============================] - 0s 18us/step - loss: 0.1129 - accuracy: 0.9581\n",
            "Epoch 100/100\n",
            "8742/8742 [==============================] - 0s 18us/step - loss: 0.1077 - accuracy: 0.9595\n"
          ],
          "name": "stdout"
        },
        {
          "output_type": "execute_result",
          "data": {
            "text/plain": [
              "<keras.callbacks.callbacks.History at 0x7fdddd245160>"
            ]
          },
          "metadata": {
            "tags": []
          },
          "execution_count": 26
        }
      ]
    },
    {
      "cell_type": "code",
      "metadata": {
        "id": "HdBrZkeEXezk",
        "colab_type": "code",
        "colab": {
          "base_uri": "https://localhost:8080/",
          "height": 86
        },
        "outputId": "457acbd8-59d1-4a6f-f73a-ff97d2652a05"
      },
      "source": [
        "# Evaluate your model's performance on the test data\n",
        "performance_val = model.evaluate(X_dev, y_dev_cat)\n",
        "performance_test = model.evaluate(X_test, y_test_cat)\n",
        "print(\"Accuracy on Val samples: {0}\".format(performance_val[1]))\n",
        "print(\"Accuracy on Test samples: {0}\".format(performance_test[1]))\n"
      ],
      "execution_count": 27,
      "outputs": [
        {
          "output_type": "stream",
          "text": [
            "1093/1093 [==============================] - 0s 103us/step\n",
            "1093/1093 [==============================] - 0s 78us/step\n",
            "Accuracy on Val samples: 0.9579139947891235\n",
            "Accuracy on Test samples: 0.9560841917991638\n"
          ],
          "name": "stdout"
        }
      ]
    },
    {
      "cell_type": "markdown",
      "metadata": {
        "id": "th_yq5gPUFHg",
        "colab_type": "text"
      },
      "source": [
        "### (f) Feature Selection"
      ]
    },
    {
      "cell_type": "code",
      "metadata": {
        "id": "0c3Be-bp2DNU",
        "colab_type": "code",
        "outputId": "396bed64-de29-4565-df76-d2561aedbcf9",
        "colab": {
          "base_uri": "https://localhost:8080/",
          "height": 537
        }
      },
      "source": [
        "selected_features = []\n",
        "acc_updates = []\n",
        "\n",
        "#while(not (len(acc_updates)) or acc_updates[-1] >= 0.6 or (abs(acc_updates[-1] - acc_updates[-2]) <= 0.1)):\n",
        "for i in range(10):\n",
        "    acc_feature_set_dict = {}\n",
        "    for feature in range(X_train.shape[1]):\n",
        "        if feature not in selected_features:\n",
        "            clf = LogisticRegression()\n",
        "            #add this to existing feature set\n",
        "            intermediate_feature_set = selected_features.copy()\n",
        "            intermediate_feature_set.append(feature)\n",
        "            #print(intermediate_feature_set)\n",
        "            #create a model that has only these features\n",
        "            clf.fit(X_train[:,intermediate_feature_set],Y_train)\n",
        "            y_pred = clf.predict(X_dev[:,intermediate_feature_set])\n",
        "            #Find acc of the model\n",
        "            acc = accuracy(Y_dev, y_pred)\n",
        "            acc_feature_set_dict[acc] = intermediate_feature_set[-1]\n",
        "            \n",
        "    #Find minimum of keys,select the feature with minimum loss as the new feature to the list\n",
        "    #print(acc_feature_set_dict)\n",
        "    max_acc = max(acc_feature_set_dict.keys())\n",
        "    #print(max_acc)\n",
        "    selected_feature = acc_feature_set_dict[max_acc]\n",
        "    selected_features.append(selected_feature)\n",
        "    acc_updates.append(max_acc)\n",
        "    print(\"iteration = \",i)\n",
        "    print(\"selected_features =\", selected_features)\n",
        "    print(\"acc_updates =\" ,acc_updates)\n"
      ],
      "execution_count": 8,
      "outputs": [
        {
          "output_type": "stream",
          "text": [
            "iteration =  0\n",
            "selected_features = [274]\n",
            "acc_updates = [0.505946935041171]\n",
            "iteration =  1\n",
            "selected_features = [274, 53]\n",
            "acc_updates = [0.505946935041171, 0.7557182067703568]\n",
            "iteration =  2\n",
            "selected_features = [274, 53, 507]\n",
            "acc_updates = [0.505946935041171, 0.7557182067703568, 0.8005489478499542]\n",
            "iteration =  3\n",
            "selected_features = [274, 53, 507, 52]\n",
            "acc_updates = [0.505946935041171, 0.7557182067703568, 0.8005489478499542, 0.8426349496797805]\n",
            "iteration =  4\n",
            "selected_features = [274, 53, 507, 52, 65]\n",
            "acc_updates = [0.505946935041171, 0.7557182067703568, 0.8005489478499542, 0.8426349496797805, 0.8819762122598354]\n",
            "iteration =  5\n",
            "selected_features = [274, 53, 507, 52, 65, 549]\n",
            "acc_updates = [0.505946935041171, 0.7557182067703568, 0.8005489478499542, 0.8426349496797805, 0.8819762122598354, 0.8929551692589204]\n",
            "iteration =  6\n",
            "selected_features = [274, 53, 507, 52, 65, 549, 22]\n",
            "acc_updates = [0.505946935041171, 0.7557182067703568, 0.8005489478499542, 0.8426349496797805, 0.8819762122598354, 0.8929551692589204, 0.9011893870082343]\n",
            "iteration =  7\n",
            "selected_features = [274, 53, 507, 52, 65, 549, 22, 102]\n",
            "acc_updates = [0.505946935041171, 0.7557182067703568, 0.8005489478499542, 0.8426349496797805, 0.8819762122598354, 0.8929551692589204, 0.9011893870082343, 0.9103385178408051]\n",
            "iteration =  8\n",
            "selected_features = [274, 53, 507, 52, 65, 549, 22, 102, 104]\n",
            "acc_updates = [0.505946935041171, 0.7557182067703568, 0.8005489478499542, 0.8426349496797805, 0.8819762122598354, 0.8929551692589204, 0.9011893870082343, 0.9103385178408051, 0.918572735590119]\n",
            "iteration =  9\n",
            "selected_features = [274, 53, 507, 52, 65, 549, 22, 102, 104, 317]\n",
            "acc_updates = [0.505946935041171, 0.7557182067703568, 0.8005489478499542, 0.8426349496797805, 0.8819762122598354, 0.8929551692589204, 0.9011893870082343, 0.9103385178408051, 0.918572735590119, 0.9231473010064044]\n"
          ],
          "name": "stdout"
        }
      ]
    },
    {
      "cell_type": "code",
      "metadata": {
        "id": "RgzjZorfWT9d",
        "colab_type": "code",
        "outputId": "b5732eef-6c40-48ca-db3e-7eb8a8c74a3f",
        "colab": {
          "base_uri": "https://localhost:8080/",
          "height": 34
        }
      },
      "source": [
        "selected_features"
      ],
      "execution_count": 9,
      "outputs": [
        {
          "output_type": "execute_result",
          "data": {
            "text/plain": [
              "[274, 53, 507, 52, 65, 549, 22, 102, 104, 317]"
            ]
          },
          "metadata": {
            "tags": []
          },
          "execution_count": 9
        }
      ]
    },
    {
      "cell_type": "code",
      "metadata": {
        "id": "bZBwzt21Rp4a",
        "colab_type": "code",
        "colab": {
          "base_uri": "https://localhost:8080/",
          "height": 190
        },
        "outputId": "fed94a97-709b-48c8-d010-543883b7f70a"
      },
      "source": [
        "acc_updates"
      ],
      "execution_count": 10,
      "outputs": [
        {
          "output_type": "execute_result",
          "data": {
            "text/plain": [
              "[0.505946935041171,\n",
              " 0.7557182067703568,\n",
              " 0.8005489478499542,\n",
              " 0.8426349496797805,\n",
              " 0.8819762122598354,\n",
              " 0.8929551692589204,\n",
              " 0.9011893870082343,\n",
              " 0.9103385178408051,\n",
              " 0.918572735590119,\n",
              " 0.9231473010064044]"
            ]
          },
          "metadata": {
            "tags": []
          },
          "execution_count": 10
        }
      ]
    },
    {
      "cell_type": "code",
      "metadata": {
        "id": "Anx4HPTXqrfv",
        "colab_type": "code",
        "colab": {
          "base_uri": "https://localhost:8080/",
          "height": 34
        },
        "outputId": "dc9548c1-f4d0-427b-d273-f0ddbd65b200"
      },
      "source": [
        "X_train_new = np.array([X_train[:,selected_features[0]]]).T\n",
        "for feature in selected_features[1:]:\n",
        "  X_train_new = np.hstack((X_train_new,np.array([X_train[:,feature]]).T))\n",
        "X_train_new.shape"
      ],
      "execution_count": 11,
      "outputs": [
        {
          "output_type": "execute_result",
          "data": {
            "text/plain": [
              "(8742, 10)"
            ]
          },
          "metadata": {
            "tags": []
          },
          "execution_count": 11
        }
      ]
    },
    {
      "cell_type": "code",
      "metadata": {
        "id": "po85TTEQzh1k",
        "colab_type": "code",
        "colab": {
          "base_uri": "https://localhost:8080/",
          "height": 34
        },
        "outputId": "191b26c0-db83-44ea-f16f-5710614b5d3a"
      },
      "source": [
        "X_test_new = np.array([X_test[:,selected_features[0]]]).T\n",
        "for feature in selected_features[1:]:\n",
        "  X_test_new = np.hstack((X_test_new,np.array([X_test[:,feature]]).T))\n",
        "X_test_new.shape"
      ],
      "execution_count": 12,
      "outputs": [
        {
          "output_type": "execute_result",
          "data": {
            "text/plain": [
              "(1093, 10)"
            ]
          },
          "metadata": {
            "tags": []
          },
          "execution_count": 12
        }
      ]
    },
    {
      "cell_type": "code",
      "metadata": {
        "id": "eY8VP4Y6tdxd",
        "colab_type": "code",
        "colab": {
          "base_uri": "https://localhost:8080/",
          "height": 34
        },
        "outputId": "4167b26a-1bd9-464f-c0e1-53883cf9646d"
      },
      "source": [
        "clf = LogisticRegression()\n",
        "clf.fit(X_train_new,Y_train)\n",
        "y_pred_test_feat_sel = clf.predict(X_test_new)\n",
        "acc = accuracy(Y_test,y_pred_test_feat_sel)\n",
        "print(\"test_acc = \",acc)"
      ],
      "execution_count": 13,
      "outputs": [
        {
          "output_type": "stream",
          "text": [
            "test_acc =  0.9030192131747484\n"
          ],
          "name": "stdout"
        }
      ]
    },
    {
      "cell_type": "markdown",
      "metadata": {
        "id": "6UgwvoaIVoLI",
        "colab_type": "text"
      },
      "source": [
        "### (g) Feature Transformation"
      ]
    },
    {
      "cell_type": "code",
      "metadata": {
        "id": "M24z-86XakRe",
        "colab_type": "code",
        "colab": {}
      },
      "source": [
        "from sklearn.preprocessing import normalize\n",
        "from numpy import linalg as LA\n",
        "#mean normalizing\n",
        "# normalizing\n",
        "\n",
        "X_train_norm  = np.asarray(X_train)\n",
        "\n",
        "for i in range(X_train_norm.shape[1]):\n",
        "  X_train_i_mean = np.mean(X_train_norm[:,i])\n",
        "  X_train_norm[:,i] = X_train_norm[:,i] - X_train_i_mean\n",
        "\n",
        "#print(X_train_norm)\n",
        "\n",
        "#Compute covariance matrix\n",
        "S = (np.matmul(X_train_norm.T,X_train_norm))/(X_train_norm.shape[1]-1)\n",
        "w, P = LA.eigh(S)\n",
        "#Sort in descending order\n",
        "w_rev = w[::-1]\n",
        "P_rev = np.fliplr(P)"
      ],
      "execution_count": 0,
      "outputs": []
    },
    {
      "cell_type": "code",
      "metadata": {
        "id": "mDRFPh1GJ-Fl",
        "colab_type": "code",
        "colab": {
          "base_uri": "https://localhost:8080/",
          "height": 296
        },
        "outputId": "4d2f7fa6-caf1-4da8-aee7-9083388aab2f"
      },
      "source": [
        "sum_all_eig_val = np.sum(w_rev)\n",
        "#print(sum_all_eig_val)\n",
        "y_axis = []\n",
        "x_axis = []\n",
        "for k in range(w_rev.shape[0]):\n",
        "  sum_first_k_eig_val = np.sum(w_rev[:k])\n",
        "  #print(sum_first_k_eig_val)\n",
        "  y_axis.append(sum_first_k_eig_val/sum_all_eig_val)\n",
        "  x_axis.append(k)\n",
        "\n",
        "plt.xlabel('K')\n",
        "plt.ylabel('Sk')\n",
        "plt.plot(y_axis)"
      ],
      "execution_count": 15,
      "outputs": [
        {
          "output_type": "execute_result",
          "data": {
            "text/plain": [
              "[<matplotlib.lines.Line2D at 0x7f1965e68860>]"
            ]
          },
          "metadata": {
            "tags": []
          },
          "execution_count": 15
        },
        {
          "output_type": "display_data",
          "data": {
            "image/png": "[encoded data removed]",
            "text/plain": [
              "<Figure size 432x288 with 1 Axes>"
            ]
          },
          "metadata": {
            "tags": [],
            "needs_background": "light"
          }
        }
      ]
    },
    {
      "cell_type": "code",
      "metadata": {
        "id": "LGshZQnI3oba",
        "colab_type": "code",
        "colab": {}
      },
      "source": [
        "from sklearn.metrics import accuracy_score\n",
        "K_vals = [50,100,150,200,250,300,561]\n",
        "acc_scores = []\n",
        "D = w.shape[0]\n",
        "for K in K_vals:\n",
        "  if K > D:\n",
        "    print(\"Invalid K\")\n",
        "    break\n",
        "  else:\n",
        "    count = 0\n",
        "    U = np.asarray(P_rev)\n",
        "    U = U[:,:K]\n",
        "    X_transformed = np.matmul(X_train_norm,U)\n",
        "    #print(X_transformed.shape)\n",
        "    clf = LogisticRegression()\n",
        "    clf.fit(X_transformed,Y_train)\n",
        "    X_dev_transformed = np.matmul(X_dev,U)\n",
        "    y_pred = clf.predict(X_dev_transformed)\n",
        "    acc = accuracy(Y_dev,y_pred)\n",
        "    acc_scores.append(acc)"
      ],
      "execution_count": 0,
      "outputs": []
    },
    {
      "cell_type": "code",
      "metadata": {
        "id": "LWfRJg2nJCFb",
        "colab_type": "code",
        "colab": {
          "base_uri": "https://localhost:8080/",
          "height": 296
        },
        "outputId": "800a0bf1-1039-47b7-a48e-007af47827df"
      },
      "source": [
        "plt.xlabel('feature dimentionality - k')\n",
        "plt.ylabel('Performance')\n",
        "plt.plot(K_vals,acc_scores)"
      ],
      "execution_count": 19,
      "outputs": [
        {
          "output_type": "execute_result",
          "data": {
            "text/plain": [
              "[<matplotlib.lines.Line2D at 0x7f19649221d0>]"
            ]
          },
          "metadata": {
            "tags": []
          },
          "execution_count": 19
        },
        {
          "output_type": "display_data",
          "data": {
            "image/png": "[encoded data removed]",
            "text/plain": [
              "<Figure size 432x288 with 1 Axes>"
            ]
          },
          "metadata": {
            "tags": [],
            "needs_background": "light"
          }
        }
      ]
    },
    {
      "cell_type": "code",
      "metadata": {
        "id": "kKfdGVaNJ_o8",
        "colab_type": "code",
        "colab": {
          "base_uri": "https://localhost:8080/",
          "height": 34
        },
        "outputId": "83100c14-7cb5-4996-8be4-3120e20ea671"
      },
      "source": [
        "K = 300\n",
        "U = np.asarray(P_rev)\n",
        "U = U[:,:K]\n",
        "X_transformed = np.matmul(X_train_norm,U)\n",
        "clf = LogisticRegression()\n",
        "clf.fit(X_transformed,Y_train)\n",
        "X_test_transformed = np.matmul(X_test,U)\n",
        "y_pred_test = clf.predict(X_test_transformed)\n",
        "acc = accuracy(Y_test,y_pred_test)\n",
        "print(\"test_acc = \",acc)"
      ],
      "execution_count": 20,
      "outputs": [
        {
          "output_type": "stream",
          "text": [
            "test_acc =  0.48124428179322964\n"
          ],
          "name": "stdout"
        }
      ]
    },
    {
      "cell_type": "code",
      "metadata": {
        "id": "AgdZ0lda8zts",
        "colab_type": "code",
        "colab": {}
      },
      "source": [
        "X_transformed = np.matmul(X_train_norm,U)\n",
        "X_dev_transformed = np.matmul(X_dev,U)\n",
        "X_test_transformed = np.matmul(X_test,U)"
      ],
      "execution_count": 0,
      "outputs": []
    },
    {
      "cell_type": "markdown",
      "metadata": {
        "id": "j1NiRrLsN7fQ",
        "colab_type": "text"
      },
      "source": [
        "### (h) Support Vector Machine"
      ]
    },
    {
      "cell_type": "code",
      "metadata": {
        "id": "gljtIvfVNmkd",
        "colab_type": "code",
        "colab": {}
      },
      "source": [
        "from sklearn import svm"
      ],
      "execution_count": 0,
      "outputs": []
    },
    {
      "cell_type": "code",
      "metadata": {
        "id": "akUZsjQe7Wro",
        "colab_type": "code",
        "colab": {
          "base_uri": "https://localhost:8080/",
          "height": 572
        },
        "outputId": "2dc1e664-1ee7-437c-f0db-d96c8b478ae3"
      },
      "source": [
        "C_list = [0.01,0.1,0.5,0.8,1,1.5,10,100]\n",
        "kernels = ['linear', 'poly', 'rbf', 'sigmoid']\n",
        "for kernel in kernels:\n",
        "  for c in C_list:\n",
        "    #print(c)\n",
        "    clf_svm = svm.SVC(C = c,kernel=kernel,random_state=20)\n",
        "    #clf_svm = svm.LinearSVC(multi_class='ovr', C=c, penalty='l2')\n",
        "    clf_svm.fit(X_transformed,Y_train)\n",
        "    y_pred_val_svm = clf_svm.predict(X_dev_transformed)\n",
        "    acc = accuracy(Y_dev,y_pred_val_svm)\n",
        "    #c_dict[acc] = [c,kernel]\n",
        "    print(\"c = \",c,\"kernel = \",kernel,\"acc = \",acc)"
      ],
      "execution_count": 23,
      "outputs": [
        {
          "output_type": "stream",
          "text": [
            "c =  0.01 kernel =  linear acc =  0.36688014638609334\n",
            "c =  0.1 kernel =  linear acc =  0.3559011893870082\n",
            "c =  0.5 kernel =  linear acc =  0.282708142726441\n",
            "c =  0.8 kernel =  linear acc =  0.27813357731015553\n",
            "c =  1 kernel =  linear acc =  0.2735590118938701\n",
            "c =  1.5 kernel =  linear acc =  0.2698993595608417\n",
            "c =  10 kernel =  linear acc =  0.2607502287282708\n",
            "c =  100 kernel =  linear acc =  0.39524245196706315\n",
            "c =  0.01 kernel =  poly acc =  0.41994510521500455\n",
            "c =  0.1 kernel =  poly acc =  0.32936870997255263\n",
            "c =  0.5 kernel =  poly acc =  0.2040256175663312\n",
            "c =  0.8 kernel =  poly acc =  0.19213174748398903\n",
            "c =  1 kernel =  poly acc =  0.19030192131747484\n",
            "c =  1.5 kernel =  poly acc =  0.19121683440073192\n",
            "c =  10 kernel =  poly acc =  0.21225983531564502\n",
            "c =  100 kernel =  poly acc =  0.20494053064958828\n",
            "c =  0.01 kernel =  rbf acc =  0.1445562671546203\n",
            "c =  0.1 kernel =  rbf acc =  0.1445562671546203\n",
            "c =  0.5 kernel =  rbf acc =  0.1445562671546203\n",
            "c =  0.8 kernel =  rbf acc =  0.1445562671546203\n",
            "c =  1 kernel =  rbf acc =  0.1445562671546203\n",
            "c =  1.5 kernel =  rbf acc =  0.1445562671546203\n",
            "c =  10 kernel =  rbf acc =  0.1445562671546203\n",
            "c =  100 kernel =  rbf acc =  0.1445562671546203\n",
            "c =  0.01 kernel =  sigmoid acc =  0.19030192131747484\n",
            "c =  0.1 kernel =  sigmoid acc =  0.23787740164684354\n",
            "c =  0.5 kernel =  sigmoid acc =  0.18115279048490393\n",
            "c =  0.8 kernel =  sigmoid acc =  0.20677035681610248\n",
            "c =  1 kernel =  sigmoid acc =  0.21500457456541627\n",
            "c =  1.5 kernel =  sigmoid acc =  0.232387923147301\n",
            "c =  10 kernel =  sigmoid acc =  0.22964318389752975\n",
            "c =  100 kernel =  sigmoid acc =  0.2232387923147301\n"
          ],
          "name": "stdout"
        }
      ]
    },
    {
      "cell_type": "code",
      "metadata": {
        "id": "RMzihtFMAE1O",
        "colab_type": "code",
        "colab": {
          "base_uri": "https://localhost:8080/",
          "height": 34
        },
        "outputId": "6e052e9b-d47d-4d60-fb11-b9b04f271ae5"
      },
      "source": [
        "clf_svm = svm.SVC(C = 0.01,kernel='poly',random_state=20)\n",
        "clf_svm.fit(X_transformed,Y_train)\n",
        "y_pred_test_svm = clf_svm.predict(X_test_transformed)\n",
        "acc = accuracy(Y_test,y_pred_test_svm)\n",
        "print(\"test_acc = \",acc)"
      ],
      "execution_count": 24,
      "outputs": [
        {
          "output_type": "stream",
          "text": [
            "test_acc =  0.43824336688014637\n"
          ],
          "name": "stdout"
        }
      ]
    },
    {
      "cell_type": "markdown",
      "metadata": {
        "id": "auV0c1dqOAmF",
        "colab_type": "text"
      },
      "source": [
        "### (i) Ensemble Learning"
      ]
    },
    {
      "cell_type": "code",
      "metadata": {
        "id": "fCpixAIxODC0",
        "colab_type": "code",
        "colab": {
          "base_uri": "https://localhost:8080/",
          "height": 260
        },
        "outputId": "e6e81e99-e5ad-4b60-9ec2-182164be18ae"
      },
      "source": [
        "from sklearn.ensemble import AdaBoostClassifier\n",
        "from sklearn.tree import DecisionTreeClassifier\n",
        "acc_list = []\n",
        "acc_est_dict = {}\n",
        "for est_n in range(1,15):\n",
        "  estimator = DecisionTreeClassifier(max_depth=2)\n",
        "  clf_ada = AdaBoostClassifier(estimator, n_estimators = est_n,random_state=80, algorithm = 'SAMME')\n",
        "  clf_ada.fit(X_train,Y_train)\n",
        "  y_pred_ada = clf_ada.predict(X_dev)\n",
        "  acc = accuracy(Y_dev,y_pred_ada)\n",
        "  acc_list.append(acc)\n",
        "  acc_est_dict[est_n] = acc\n",
        "  print(\"number of estimators = \",est_n,\"acc =\" ,acc)"
      ],
      "execution_count": 25,
      "outputs": [
        {
          "output_type": "stream",
          "text": [
            "number of estimators =  1 acc = 0.27813357731015553\n",
            "number of estimators =  2 acc = 0.19853613906678866\n",
            "number of estimators =  3 acc = 0.22964318389752975\n",
            "number of estimators =  4 acc = 0.22964318389752975\n",
            "number of estimators =  5 acc = 0.1939615736505032\n",
            "number of estimators =  6 acc = 0.1948764867337603\n",
            "number of estimators =  7 acc = 0.3037511436413541\n",
            "number of estimators =  8 acc = 0.322964318389753\n",
            "number of estimators =  9 acc = 0.33485818847209514\n",
            "number of estimators =  10 acc = 0.2790484903934126\n",
            "number of estimators =  11 acc = 0.2753888380603843\n",
            "number of estimators =  12 acc = 0.27630375114364136\n",
            "number of estimators =  13 acc = 0.2753888380603843\n",
            "number of estimators =  14 acc = 0.2698993595608417\n"
          ],
          "name": "stdout"
        }
      ]
    },
    {
      "cell_type": "code",
      "metadata": {
        "id": "-SlhnehaPJY0",
        "colab_type": "code",
        "colab": {
          "base_uri": "https://localhost:8080/",
          "height": 34
        },
        "outputId": "819d3da4-b551-4f50-dc39-7bb8276cc99d"
      },
      "source": [
        "est_n_best = 9\n",
        "estimator = DecisionTreeClassifier(max_depth=2)\n",
        "clf_ada_test = AdaBoostClassifier(estimator, n_estimators = est_n,random_state=80, algorithm = 'SAMME')\n",
        "clf_ada_test.fit(X_train,Y_train)\n",
        "y_pred_ada_test = clf_ada.predict(X_test)\n",
        "print(\"test_acc = \",accuracy(Y_test,y_pred_ada))"
      ],
      "execution_count": 27,
      "outputs": [
        {
          "output_type": "stream",
          "text": [
            "test_acc =  0.1655992680695334\n"
          ],
          "name": "stdout"
        }
      ]
    }
  ]
}